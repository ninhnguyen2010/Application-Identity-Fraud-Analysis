{
 "cells": [
  {
   "cell_type": "code",
   "execution_count": 1,
   "metadata": {},
   "outputs": [],
   "source": [
    "import pandas as pd\n",
    "import scipy.stats\n",
    "import numpy as np\n",
    "import datetime as dt\n",
    "import seaborn as sns\n",
    "import matplotlib.pyplot as plt\n",
    "%matplotlib inline\n",
    "start_time = dt.datetime.now()"
   ]
  },
  {
   "cell_type": "code",
   "execution_count": 2,
   "metadata": {},
   "outputs": [],
   "source": [
    "data = pd.read_csv('applications data.csv')"
   ]
  },
  {
   "cell_type": "code",
   "execution_count": 3,
   "metadata": {},
   "outputs": [],
   "source": [
    "def mem_usage(pandas_obj):\n",
    "    if isinstance(pandas_obj,pd.DataFrame):\n",
    "        usage_b = pandas_obj.memory_usage(deep=True).sum()\n",
    "    else: # we assume if not a df it's a series\n",
    "        usage_b = pandas_obj.memory_usage(deep=True)\n",
    "    usage_mb = usage_b / 1024 ** 2 # convert bytes to megabytes\n",
    "    return \"{:03.2f} MB\".format(usage_mb)"
   ]
  },
  {
   "cell_type": "code",
   "execution_count": 4,
   "metadata": {},
   "outputs": [
    {
     "name": "stdout",
     "output_type": "stream",
     "text": [
      "244.69 MB\n"
     ]
    }
   ],
   "source": [
    "print(mem_usage(data))"
   ]
  },
  {
   "cell_type": "code",
   "execution_count": 5,
   "metadata": {},
   "outputs": [
    {
     "data": {
      "text/plain": [
       "(1000000, 10)"
      ]
     },
     "execution_count": 5,
     "metadata": {},
     "output_type": "execute_result"
    }
   ],
   "source": [
    "data.shape"
   ]
  },
  {
   "cell_type": "code",
   "execution_count": 6,
   "metadata": {},
   "outputs": [
    {
     "data": {
      "text/html": [
       "<div>\n",
       "<style scoped>\n",
       "    .dataframe tbody tr th:only-of-type {\n",
       "        vertical-align: middle;\n",
       "    }\n",
       "\n",
       "    .dataframe tbody tr th {\n",
       "        vertical-align: top;\n",
       "    }\n",
       "\n",
       "    .dataframe thead th {\n",
       "        text-align: right;\n",
       "    }\n",
       "</style>\n",
       "<table border=\"1\" class=\"dataframe\">\n",
       "  <thead>\n",
       "    <tr style=\"text-align: right;\">\n",
       "      <th></th>\n",
       "      <th>record</th>\n",
       "      <th>date</th>\n",
       "      <th>ssn</th>\n",
       "      <th>firstname</th>\n",
       "      <th>lastname</th>\n",
       "      <th>address</th>\n",
       "      <th>zip5</th>\n",
       "      <th>dob</th>\n",
       "      <th>homephone</th>\n",
       "      <th>fraud_label</th>\n",
       "    </tr>\n",
       "  </thead>\n",
       "  <tbody>\n",
       "    <tr>\n",
       "      <th>count</th>\n",
       "      <td>1000000.000000</td>\n",
       "      <td>1.000000e+06</td>\n",
       "      <td>1.000000e+06</td>\n",
       "      <td>1000000</td>\n",
       "      <td>1000000</td>\n",
       "      <td>1000000</td>\n",
       "      <td>1000000.000000</td>\n",
       "      <td>1.000000e+06</td>\n",
       "      <td>1.000000e+06</td>\n",
       "      <td>1000000.000000</td>\n",
       "    </tr>\n",
       "    <tr>\n",
       "      <th>unique</th>\n",
       "      <td>NaN</td>\n",
       "      <td>NaN</td>\n",
       "      <td>NaN</td>\n",
       "      <td>78136</td>\n",
       "      <td>177001</td>\n",
       "      <td>828774</td>\n",
       "      <td>NaN</td>\n",
       "      <td>NaN</td>\n",
       "      <td>NaN</td>\n",
       "      <td>NaN</td>\n",
       "    </tr>\n",
       "    <tr>\n",
       "      <th>top</th>\n",
       "      <td>NaN</td>\n",
       "      <td>NaN</td>\n",
       "      <td>NaN</td>\n",
       "      <td>EAMSTRMT</td>\n",
       "      <td>ERJSAXA</td>\n",
       "      <td>123 MAIN ST</td>\n",
       "      <td>NaN</td>\n",
       "      <td>NaN</td>\n",
       "      <td>NaN</td>\n",
       "      <td>NaN</td>\n",
       "    </tr>\n",
       "    <tr>\n",
       "      <th>freq</th>\n",
       "      <td>NaN</td>\n",
       "      <td>NaN</td>\n",
       "      <td>NaN</td>\n",
       "      <td>12658</td>\n",
       "      <td>8580</td>\n",
       "      <td>1079</td>\n",
       "      <td>NaN</td>\n",
       "      <td>NaN</td>\n",
       "      <td>NaN</td>\n",
       "      <td>NaN</td>\n",
       "    </tr>\n",
       "    <tr>\n",
       "      <th>mean</th>\n",
       "      <td>500000.500000</td>\n",
       "      <td>2.017067e+07</td>\n",
       "      <td>5.083415e+08</td>\n",
       "      <td>NaN</td>\n",
       "      <td>NaN</td>\n",
       "      <td>NaN</td>\n",
       "      <td>50073.333143</td>\n",
       "      <td>1.951725e+07</td>\n",
       "      <td>5.368716e+09</td>\n",
       "      <td>0.014393</td>\n",
       "    </tr>\n",
       "    <tr>\n",
       "      <th>std</th>\n",
       "      <td>288675.278933</td>\n",
       "      <td>3.449869e+02</td>\n",
       "      <td>2.934864e+08</td>\n",
       "      <td>NaN</td>\n",
       "      <td>NaN</td>\n",
       "      <td>NaN</td>\n",
       "      <td>28915.921546</td>\n",
       "      <td>3.568872e+05</td>\n",
       "      <td>3.082161e+09</td>\n",
       "      <td>0.119104</td>\n",
       "    </tr>\n",
       "    <tr>\n",
       "      <th>min</th>\n",
       "      <td>1.000000</td>\n",
       "      <td>2.017010e+07</td>\n",
       "      <td>3.600000e+01</td>\n",
       "      <td>NaN</td>\n",
       "      <td>NaN</td>\n",
       "      <td>NaN</td>\n",
       "      <td>2.000000</td>\n",
       "      <td>1.900010e+07</td>\n",
       "      <td>5.937990e+05</td>\n",
       "      <td>0.000000</td>\n",
       "    </tr>\n",
       "    <tr>\n",
       "      <th>25%</th>\n",
       "      <td>250000.750000</td>\n",
       "      <td>2.017040e+07</td>\n",
       "      <td>2.542176e+08</td>\n",
       "      <td>NaN</td>\n",
       "      <td>NaN</td>\n",
       "      <td>NaN</td>\n",
       "      <td>24992.000000</td>\n",
       "      <td>1.916092e+07</td>\n",
       "      <td>2.677134e+09</td>\n",
       "      <td>0.000000</td>\n",
       "    </tr>\n",
       "    <tr>\n",
       "      <th>50%</th>\n",
       "      <td>500000.500000</td>\n",
       "      <td>2.017070e+07</td>\n",
       "      <td>5.088144e+08</td>\n",
       "      <td>NaN</td>\n",
       "      <td>NaN</td>\n",
       "      <td>NaN</td>\n",
       "      <td>50492.000000</td>\n",
       "      <td>1.950090e+07</td>\n",
       "      <td>5.399910e+09</td>\n",
       "      <td>0.000000</td>\n",
       "    </tr>\n",
       "    <tr>\n",
       "      <th>75%</th>\n",
       "      <td>750000.250000</td>\n",
       "      <td>2.017100e+07</td>\n",
       "      <td>7.630924e+08</td>\n",
       "      <td>NaN</td>\n",
       "      <td>NaN</td>\n",
       "      <td>NaN</td>\n",
       "      <td>74496.000000</td>\n",
       "      <td>1.983032e+07</td>\n",
       "      <td>8.109241e+09</td>\n",
       "      <td>0.000000</td>\n",
       "    </tr>\n",
       "    <tr>\n",
       "      <th>max</th>\n",
       "      <td>1000000.000000</td>\n",
       "      <td>2.017123e+07</td>\n",
       "      <td>1.000000e+09</td>\n",
       "      <td>NaN</td>\n",
       "      <td>NaN</td>\n",
       "      <td>NaN</td>\n",
       "      <td>99999.000000</td>\n",
       "      <td>2.016103e+07</td>\n",
       "      <td>1.000000e+10</td>\n",
       "      <td>1.000000</td>\n",
       "    </tr>\n",
       "  </tbody>\n",
       "</table>\n",
       "</div>"
      ],
      "text/plain": [
       "                record          date           ssn firstname lastname  \\\n",
       "count   1000000.000000  1.000000e+06  1.000000e+06   1000000  1000000   \n",
       "unique             NaN           NaN           NaN     78136   177001   \n",
       "top                NaN           NaN           NaN  EAMSTRMT  ERJSAXA   \n",
       "freq               NaN           NaN           NaN     12658     8580   \n",
       "mean     500000.500000  2.017067e+07  5.083415e+08       NaN      NaN   \n",
       "std      288675.278933  3.449869e+02  2.934864e+08       NaN      NaN   \n",
       "min           1.000000  2.017010e+07  3.600000e+01       NaN      NaN   \n",
       "25%      250000.750000  2.017040e+07  2.542176e+08       NaN      NaN   \n",
       "50%      500000.500000  2.017070e+07  5.088144e+08       NaN      NaN   \n",
       "75%      750000.250000  2.017100e+07  7.630924e+08       NaN      NaN   \n",
       "max     1000000.000000  2.017123e+07  1.000000e+09       NaN      NaN   \n",
       "\n",
       "            address            zip5           dob     homephone  \\\n",
       "count       1000000  1000000.000000  1.000000e+06  1.000000e+06   \n",
       "unique       828774             NaN           NaN           NaN   \n",
       "top     123 MAIN ST             NaN           NaN           NaN   \n",
       "freq           1079             NaN           NaN           NaN   \n",
       "mean            NaN    50073.333143  1.951725e+07  5.368716e+09   \n",
       "std             NaN    28915.921546  3.568872e+05  3.082161e+09   \n",
       "min             NaN        2.000000  1.900010e+07  5.937990e+05   \n",
       "25%             NaN    24992.000000  1.916092e+07  2.677134e+09   \n",
       "50%             NaN    50492.000000  1.950090e+07  5.399910e+09   \n",
       "75%             NaN    74496.000000  1.983032e+07  8.109241e+09   \n",
       "max             NaN    99999.000000  2.016103e+07  1.000000e+10   \n",
       "\n",
       "           fraud_label  \n",
       "count   1000000.000000  \n",
       "unique             NaN  \n",
       "top                NaN  \n",
       "freq               NaN  \n",
       "mean          0.014393  \n",
       "std           0.119104  \n",
       "min           0.000000  \n",
       "25%           0.000000  \n",
       "50%           0.000000  \n",
       "75%           0.000000  \n",
       "max           1.000000  "
      ]
     },
     "execution_count": 6,
     "metadata": {},
     "output_type": "execute_result"
    }
   ],
   "source": [
    "data.describe(include='all')"
   ]
  },
  {
   "cell_type": "code",
   "execution_count": 7,
   "metadata": {},
   "outputs": [
    {
     "data": {
      "text/plain": [
       "record          int64\n",
       "date            int64\n",
       "ssn             int64\n",
       "firstname      object\n",
       "lastname       object\n",
       "address        object\n",
       "zip5            int64\n",
       "dob             int64\n",
       "homephone       int64\n",
       "fraud_label     int64\n",
       "dtype: object"
      ]
     },
     "execution_count": 7,
     "metadata": {},
     "output_type": "execute_result"
    }
   ],
   "source": [
    "data.dtypes"
   ]
  },
  {
   "cell_type": "code",
   "execution_count": 8,
   "metadata": {},
   "outputs": [],
   "source": [
    "data['record'] = data['record'].astype(int)"
   ]
  },
  {
   "cell_type": "code",
   "execution_count": 9,
   "metadata": {
    "scrolled": true
   },
   "outputs": [
    {
     "data": {
      "text/html": [
       "<div>\n",
       "<style scoped>\n",
       "    .dataframe tbody tr th:only-of-type {\n",
       "        vertical-align: middle;\n",
       "    }\n",
       "\n",
       "    .dataframe tbody tr th {\n",
       "        vertical-align: top;\n",
       "    }\n",
       "\n",
       "    .dataframe thead th {\n",
       "        text-align: right;\n",
       "    }\n",
       "</style>\n",
       "<table border=\"1\" class=\"dataframe\">\n",
       "  <thead>\n",
       "    <tr style=\"text-align: right;\">\n",
       "      <th></th>\n",
       "      <th>record</th>\n",
       "      <th>date</th>\n",
       "      <th>ssn</th>\n",
       "      <th>firstname</th>\n",
       "      <th>lastname</th>\n",
       "      <th>address</th>\n",
       "      <th>zip5</th>\n",
       "      <th>dob</th>\n",
       "      <th>homephone</th>\n",
       "      <th>fraud_label</th>\n",
       "    </tr>\n",
       "  </thead>\n",
       "  <tbody>\n",
       "    <tr>\n",
       "      <th>0</th>\n",
       "      <td>1</td>\n",
       "      <td>20170101</td>\n",
       "      <td>379070012</td>\n",
       "      <td>XRRAMMTR</td>\n",
       "      <td>SMJETJMJ</td>\n",
       "      <td>6861 EUTST PL</td>\n",
       "      <td>2765</td>\n",
       "      <td>19070626</td>\n",
       "      <td>1797504115</td>\n",
       "      <td>0</td>\n",
       "    </tr>\n",
       "    <tr>\n",
       "      <th>1</th>\n",
       "      <td>2</td>\n",
       "      <td>20170101</td>\n",
       "      <td>387482503</td>\n",
       "      <td>MAMSTUJR</td>\n",
       "      <td>RTTEMRRR</td>\n",
       "      <td>7280 URASA PL</td>\n",
       "      <td>57169</td>\n",
       "      <td>19340615</td>\n",
       "      <td>4164239415</td>\n",
       "      <td>1</td>\n",
       "    </tr>\n",
       "    <tr>\n",
       "      <th>2</th>\n",
       "      <td>3</td>\n",
       "      <td>20170101</td>\n",
       "      <td>200332444</td>\n",
       "      <td>SZMMUJEZS</td>\n",
       "      <td>EUSEZRAE</td>\n",
       "      <td>5581 RSREX LN</td>\n",
       "      <td>56721</td>\n",
       "      <td>19070626</td>\n",
       "      <td>216537580</td>\n",
       "      <td>0</td>\n",
       "    </tr>\n",
       "    <tr>\n",
       "      <th>3</th>\n",
       "      <td>4</td>\n",
       "      <td>20170101</td>\n",
       "      <td>747451317</td>\n",
       "      <td>SJJZSXRSZ</td>\n",
       "      <td>ETJXTXXS</td>\n",
       "      <td>1387 UJZXJ RD</td>\n",
       "      <td>35286</td>\n",
       "      <td>19440430</td>\n",
       "      <td>132144161</td>\n",
       "      <td>0</td>\n",
       "    </tr>\n",
       "    <tr>\n",
       "      <th>4</th>\n",
       "      <td>5</td>\n",
       "      <td>20170101</td>\n",
       "      <td>24065868</td>\n",
       "      <td>SSSXUEJMS</td>\n",
       "      <td>SSUUJXUZ</td>\n",
       "      <td>279 EAASA WY</td>\n",
       "      <td>3173</td>\n",
       "      <td>19980315</td>\n",
       "      <td>6101082272</td>\n",
       "      <td>0</td>\n",
       "    </tr>\n",
       "    <tr>\n",
       "      <th>5</th>\n",
       "      <td>6</td>\n",
       "      <td>20170101</td>\n",
       "      <td>922264214</td>\n",
       "      <td>XEEJJSTER</td>\n",
       "      <td>ERJSAXA</td>\n",
       "      <td>4322 USJXU LN</td>\n",
       "      <td>8391</td>\n",
       "      <td>19480613</td>\n",
       "      <td>5742016319</td>\n",
       "      <td>0</td>\n",
       "    </tr>\n",
       "    <tr>\n",
       "      <th>6</th>\n",
       "      <td>7</td>\n",
       "      <td>20170101</td>\n",
       "      <td>415812149</td>\n",
       "      <td>XZJRJUSRR</td>\n",
       "      <td>STSMJRUM</td>\n",
       "      <td>478 EEXUM LN</td>\n",
       "      <td>41640</td>\n",
       "      <td>19640318</td>\n",
       "      <td>7697396312</td>\n",
       "      <td>0</td>\n",
       "    </tr>\n",
       "    <tr>\n",
       "      <th>7</th>\n",
       "      <td>8</td>\n",
       "      <td>20170101</td>\n",
       "      <td>373752050</td>\n",
       "      <td>EJMRRSUXR</td>\n",
       "      <td>AMTZXRU</td>\n",
       "      <td>8906 UUAJ PL</td>\n",
       "      <td>60567</td>\n",
       "      <td>19190528</td>\n",
       "      <td>2727421586</td>\n",
       "      <td>0</td>\n",
       "    </tr>\n",
       "    <tr>\n",
       "      <th>8</th>\n",
       "      <td>9</td>\n",
       "      <td>20170101</td>\n",
       "      <td>769970791</td>\n",
       "      <td>RXTSZJATS</td>\n",
       "      <td>RSXMRJME</td>\n",
       "      <td>8266 SSEAR RD</td>\n",
       "      <td>37934</td>\n",
       "      <td>19900314</td>\n",
       "      <td>5520652307</td>\n",
       "      <td>0</td>\n",
       "    </tr>\n",
       "    <tr>\n",
       "      <th>9</th>\n",
       "      <td>10</td>\n",
       "      <td>20170101</td>\n",
       "      <td>732119085</td>\n",
       "      <td>EREMTZXXA</td>\n",
       "      <td>EXMMSEXT</td>\n",
       "      <td>9166 XXSAZ PL</td>\n",
       "      <td>93751</td>\n",
       "      <td>19750127</td>\n",
       "      <td>3749451123</td>\n",
       "      <td>0</td>\n",
       "    </tr>\n",
       "  </tbody>\n",
       "</table>\n",
       "</div>"
      ],
      "text/plain": [
       "   record      date        ssn  firstname  lastname        address   zip5  \\\n",
       "0       1  20170101  379070012   XRRAMMTR  SMJETJMJ  6861 EUTST PL   2765   \n",
       "1       2  20170101  387482503   MAMSTUJR  RTTEMRRR  7280 URASA PL  57169   \n",
       "2       3  20170101  200332444  SZMMUJEZS  EUSEZRAE  5581 RSREX LN  56721   \n",
       "3       4  20170101  747451317  SJJZSXRSZ  ETJXTXXS  1387 UJZXJ RD  35286   \n",
       "4       5  20170101   24065868  SSSXUEJMS  SSUUJXUZ   279 EAASA WY   3173   \n",
       "5       6  20170101  922264214  XEEJJSTER   ERJSAXA  4322 USJXU LN   8391   \n",
       "6       7  20170101  415812149  XZJRJUSRR  STSMJRUM   478 EEXUM LN  41640   \n",
       "7       8  20170101  373752050  EJMRRSUXR   AMTZXRU   8906 UUAJ PL  60567   \n",
       "8       9  20170101  769970791  RXTSZJATS  RSXMRJME  8266 SSEAR RD  37934   \n",
       "9      10  20170101  732119085  EREMTZXXA  EXMMSEXT  9166 XXSAZ PL  93751   \n",
       "\n",
       "        dob   homephone  fraud_label  \n",
       "0  19070626  1797504115            0  \n",
       "1  19340615  4164239415            1  \n",
       "2  19070626   216537580            0  \n",
       "3  19440430   132144161            0  \n",
       "4  19980315  6101082272            0  \n",
       "5  19480613  5742016319            0  \n",
       "6  19640318  7697396312            0  \n",
       "7  19190528  2727421586            0  \n",
       "8  19900314  5520652307            0  \n",
       "9  19750127  3749451123            0  "
      ]
     },
     "execution_count": 9,
     "metadata": {},
     "output_type": "execute_result"
    }
   ],
   "source": [
    "data.head(10)"
   ]
  },
  {
   "cell_type": "code",
   "execution_count": 10,
   "metadata": {},
   "outputs": [],
   "source": [
    "data['appyear'] = (data['date'] / 10000).astype('int')\n",
    "data['appmonth'] = ((data['date'] - data['appyear'] * 10000) / 100).astype('int')\n",
    "data['appday'] = data['date'] - data['appyear'] * 10000 - data['appmonth'] * 100\n",
    "data['date'] = pd.to_datetime(data.appyear*10000+data.appmonth*100+data.appday,format='%Y%m%d')\n",
    "data = data.drop(columns = ['appyear','appmonth','appday'])"
   ]
  },
  {
   "cell_type": "code",
   "execution_count": 11,
   "metadata": {},
   "outputs": [
    {
     "data": {
      "text/plain": [
       "record                  int64\n",
       "date           datetime64[ns]\n",
       "ssn                     int64\n",
       "firstname              object\n",
       "lastname               object\n",
       "address                object\n",
       "zip5                    int64\n",
       "dob                     int64\n",
       "homephone               int64\n",
       "fraud_label             int64\n",
       "dtype: object"
      ]
     },
     "execution_count": 11,
     "metadata": {},
     "output_type": "execute_result"
    }
   ],
   "source": [
    "data.dtypes"
   ]
  },
  {
   "cell_type": "code",
   "execution_count": 12,
   "metadata": {},
   "outputs": [
    {
     "data": {
      "text/html": [
       "<div>\n",
       "<style scoped>\n",
       "    .dataframe tbody tr th:only-of-type {\n",
       "        vertical-align: middle;\n",
       "    }\n",
       "\n",
       "    .dataframe tbody tr th {\n",
       "        vertical-align: top;\n",
       "    }\n",
       "\n",
       "    .dataframe thead th {\n",
       "        text-align: right;\n",
       "    }\n",
       "</style>\n",
       "<table border=\"1\" class=\"dataframe\">\n",
       "  <thead>\n",
       "    <tr style=\"text-align: right;\">\n",
       "      <th></th>\n",
       "      <th>record</th>\n",
       "      <th>date</th>\n",
       "      <th>ssn</th>\n",
       "      <th>firstname</th>\n",
       "      <th>lastname</th>\n",
       "      <th>address</th>\n",
       "      <th>zip5</th>\n",
       "      <th>dob</th>\n",
       "      <th>homephone</th>\n",
       "      <th>fraud_label</th>\n",
       "    </tr>\n",
       "  </thead>\n",
       "  <tbody>\n",
       "    <tr>\n",
       "      <th>0</th>\n",
       "      <td>1</td>\n",
       "      <td>2017-01-01</td>\n",
       "      <td>379070012</td>\n",
       "      <td>XRRAMMTR</td>\n",
       "      <td>SMJETJMJ</td>\n",
       "      <td>6861 EUTST PL</td>\n",
       "      <td>2765</td>\n",
       "      <td>19070626</td>\n",
       "      <td>1797504115</td>\n",
       "      <td>0</td>\n",
       "    </tr>\n",
       "    <tr>\n",
       "      <th>1</th>\n",
       "      <td>2</td>\n",
       "      <td>2017-01-01</td>\n",
       "      <td>387482503</td>\n",
       "      <td>MAMSTUJR</td>\n",
       "      <td>RTTEMRRR</td>\n",
       "      <td>7280 URASA PL</td>\n",
       "      <td>57169</td>\n",
       "      <td>19340615</td>\n",
       "      <td>4164239415</td>\n",
       "      <td>1</td>\n",
       "    </tr>\n",
       "    <tr>\n",
       "      <th>2</th>\n",
       "      <td>3</td>\n",
       "      <td>2017-01-01</td>\n",
       "      <td>200332444</td>\n",
       "      <td>SZMMUJEZS</td>\n",
       "      <td>EUSEZRAE</td>\n",
       "      <td>5581 RSREX LN</td>\n",
       "      <td>56721</td>\n",
       "      <td>19070626</td>\n",
       "      <td>216537580</td>\n",
       "      <td>0</td>\n",
       "    </tr>\n",
       "    <tr>\n",
       "      <th>3</th>\n",
       "      <td>4</td>\n",
       "      <td>2017-01-01</td>\n",
       "      <td>747451317</td>\n",
       "      <td>SJJZSXRSZ</td>\n",
       "      <td>ETJXTXXS</td>\n",
       "      <td>1387 UJZXJ RD</td>\n",
       "      <td>35286</td>\n",
       "      <td>19440430</td>\n",
       "      <td>132144161</td>\n",
       "      <td>0</td>\n",
       "    </tr>\n",
       "    <tr>\n",
       "      <th>4</th>\n",
       "      <td>5</td>\n",
       "      <td>2017-01-01</td>\n",
       "      <td>24065868</td>\n",
       "      <td>SSSXUEJMS</td>\n",
       "      <td>SSUUJXUZ</td>\n",
       "      <td>279 EAASA WY</td>\n",
       "      <td>3173</td>\n",
       "      <td>19980315</td>\n",
       "      <td>6101082272</td>\n",
       "      <td>0</td>\n",
       "    </tr>\n",
       "  </tbody>\n",
       "</table>\n",
       "</div>"
      ],
      "text/plain": [
       "   record       date        ssn  firstname  lastname        address   zip5  \\\n",
       "0       1 2017-01-01  379070012   XRRAMMTR  SMJETJMJ  6861 EUTST PL   2765   \n",
       "1       2 2017-01-01  387482503   MAMSTUJR  RTTEMRRR  7280 URASA PL  57169   \n",
       "2       3 2017-01-01  200332444  SZMMUJEZS  EUSEZRAE  5581 RSREX LN  56721   \n",
       "3       4 2017-01-01  747451317  SJJZSXRSZ  ETJXTXXS  1387 UJZXJ RD  35286   \n",
       "4       5 2017-01-01   24065868  SSSXUEJMS  SSUUJXUZ   279 EAASA WY   3173   \n",
       "\n",
       "        dob   homephone  fraud_label  \n",
       "0  19070626  1797504115            0  \n",
       "1  19340615  4164239415            1  \n",
       "2  19070626   216537580            0  \n",
       "3  19440430   132144161            0  \n",
       "4  19980315  6101082272            0  "
      ]
     },
     "execution_count": 12,
     "metadata": {},
     "output_type": "execute_result"
    }
   ],
   "source": [
    "data.head(5)"
   ]
  },
  {
   "cell_type": "code",
   "execution_count": 13,
   "metadata": {},
   "outputs": [
    {
     "data": {
      "text/html": [
       "<div>\n",
       "<style scoped>\n",
       "    .dataframe tbody tr th:only-of-type {\n",
       "        vertical-align: middle;\n",
       "    }\n",
       "\n",
       "    .dataframe tbody tr th {\n",
       "        vertical-align: top;\n",
       "    }\n",
       "\n",
       "    .dataframe thead th {\n",
       "        text-align: right;\n",
       "    }\n",
       "</style>\n",
       "<table border=\"1\" class=\"dataframe\">\n",
       "  <thead>\n",
       "    <tr style=\"text-align: right;\">\n",
       "      <th></th>\n",
       "      <th>record</th>\n",
       "      <th>date</th>\n",
       "      <th>ssn</th>\n",
       "      <th>firstname</th>\n",
       "      <th>lastname</th>\n",
       "      <th>address</th>\n",
       "      <th>zip5</th>\n",
       "      <th>dob</th>\n",
       "      <th>homephone</th>\n",
       "      <th>fraud_label</th>\n",
       "    </tr>\n",
       "  </thead>\n",
       "  <tbody>\n",
       "    <tr>\n",
       "      <th>999995</th>\n",
       "      <td>999996</td>\n",
       "      <td>2017-12-31</td>\n",
       "      <td>766104848</td>\n",
       "      <td>XUSAAURMZ</td>\n",
       "      <td>EJXXEXZX</td>\n",
       "      <td>8079 EJRUJ AVE</td>\n",
       "      <td>54890</td>\n",
       "      <td>19550418</td>\n",
       "      <td>8236558223</td>\n",
       "      <td>0</td>\n",
       "    </tr>\n",
       "    <tr>\n",
       "      <th>999996</th>\n",
       "      <td>999997</td>\n",
       "      <td>2017-12-31</td>\n",
       "      <td>445178058</td>\n",
       "      <td>SAAJJEMTX</td>\n",
       "      <td>UMAUETJX</td>\n",
       "      <td>4817 UMSXT AVE</td>\n",
       "      <td>74683</td>\n",
       "      <td>19150624</td>\n",
       "      <td>6790134432</td>\n",
       "      <td>0</td>\n",
       "    </tr>\n",
       "    <tr>\n",
       "      <th>999997</th>\n",
       "      <td>999998</td>\n",
       "      <td>2017-12-31</td>\n",
       "      <td>25283410</td>\n",
       "      <td>ESRXXRSUX</td>\n",
       "      <td>EUEJRJJE</td>\n",
       "      <td>7562 RJMAZ ST</td>\n",
       "      <td>86805</td>\n",
       "      <td>19880628</td>\n",
       "      <td>3997657622</td>\n",
       "      <td>0</td>\n",
       "    </tr>\n",
       "    <tr>\n",
       "      <th>999998</th>\n",
       "      <td>999999</td>\n",
       "      <td>2017-12-31</td>\n",
       "      <td>361232148</td>\n",
       "      <td>XXMZSRXMA</td>\n",
       "      <td>RSRSUJSS</td>\n",
       "      <td>3408 UZZAM WY</td>\n",
       "      <td>49183</td>\n",
       "      <td>20120302</td>\n",
       "      <td>5935293731</td>\n",
       "      <td>0</td>\n",
       "    </tr>\n",
       "    <tr>\n",
       "      <th>999999</th>\n",
       "      <td>1000000</td>\n",
       "      <td>2017-12-31</td>\n",
       "      <td>40027083</td>\n",
       "      <td>RXZXSMEZA</td>\n",
       "      <td>UTEAAZXU</td>\n",
       "      <td>112 UTTJT PL</td>\n",
       "      <td>39491</td>\n",
       "      <td>19820826</td>\n",
       "      <td>5869926905</td>\n",
       "      <td>0</td>\n",
       "    </tr>\n",
       "  </tbody>\n",
       "</table>\n",
       "</div>"
      ],
      "text/plain": [
       "         record       date        ssn  firstname  lastname         address  \\\n",
       "999995   999996 2017-12-31  766104848  XUSAAURMZ  EJXXEXZX  8079 EJRUJ AVE   \n",
       "999996   999997 2017-12-31  445178058  SAAJJEMTX  UMAUETJX  4817 UMSXT AVE   \n",
       "999997   999998 2017-12-31   25283410  ESRXXRSUX  EUEJRJJE   7562 RJMAZ ST   \n",
       "999998   999999 2017-12-31  361232148  XXMZSRXMA  RSRSUJSS   3408 UZZAM WY   \n",
       "999999  1000000 2017-12-31   40027083  RXZXSMEZA  UTEAAZXU    112 UTTJT PL   \n",
       "\n",
       "         zip5       dob   homephone  fraud_label  \n",
       "999995  54890  19550418  8236558223            0  \n",
       "999996  74683  19150624  6790134432            0  \n",
       "999997  86805  19880628  3997657622            0  \n",
       "999998  49183  20120302  5935293731            0  \n",
       "999999  39491  19820826  5869926905            0  "
      ]
     },
     "execution_count": 13,
     "metadata": {},
     "output_type": "execute_result"
    }
   ],
   "source": [
    "data.tail(5)"
   ]
  },
  {
   "cell_type": "code",
   "execution_count": 14,
   "metadata": {},
   "outputs": [
    {
     "data": {
      "text/html": [
       "<div>\n",
       "<style scoped>\n",
       "    .dataframe tbody tr th:only-of-type {\n",
       "        vertical-align: middle;\n",
       "    }\n",
       "\n",
       "    .dataframe tbody tr th {\n",
       "        vertical-align: top;\n",
       "    }\n",
       "\n",
       "    .dataframe thead th {\n",
       "        text-align: right;\n",
       "    }\n",
       "</style>\n",
       "<table border=\"1\" class=\"dataframe\">\n",
       "  <thead>\n",
       "    <tr style=\"text-align: right;\">\n",
       "      <th></th>\n",
       "      <th>record</th>\n",
       "      <th>ssn</th>\n",
       "      <th>zip5</th>\n",
       "      <th>dob</th>\n",
       "      <th>homephone</th>\n",
       "      <th>fraud_label</th>\n",
       "    </tr>\n",
       "  </thead>\n",
       "  <tbody>\n",
       "    <tr>\n",
       "      <th>count</th>\n",
       "      <td>1000000.000000</td>\n",
       "      <td>1.000000e+06</td>\n",
       "      <td>1000000.000000</td>\n",
       "      <td>1.000000e+06</td>\n",
       "      <td>1.000000e+06</td>\n",
       "      <td>1000000.000000</td>\n",
       "    </tr>\n",
       "    <tr>\n",
       "      <th>mean</th>\n",
       "      <td>500000.500000</td>\n",
       "      <td>5.083415e+08</td>\n",
       "      <td>50073.333143</td>\n",
       "      <td>1.951725e+07</td>\n",
       "      <td>5.368716e+09</td>\n",
       "      <td>0.014393</td>\n",
       "    </tr>\n",
       "    <tr>\n",
       "      <th>std</th>\n",
       "      <td>288675.278933</td>\n",
       "      <td>2.934864e+08</td>\n",
       "      <td>28915.921546</td>\n",
       "      <td>3.568872e+05</td>\n",
       "      <td>3.082161e+09</td>\n",
       "      <td>0.119104</td>\n",
       "    </tr>\n",
       "    <tr>\n",
       "      <th>min</th>\n",
       "      <td>1.000000</td>\n",
       "      <td>3.600000e+01</td>\n",
       "      <td>2.000000</td>\n",
       "      <td>1.900010e+07</td>\n",
       "      <td>5.937990e+05</td>\n",
       "      <td>0.000000</td>\n",
       "    </tr>\n",
       "    <tr>\n",
       "      <th>25%</th>\n",
       "      <td>250000.750000</td>\n",
       "      <td>2.542176e+08</td>\n",
       "      <td>24992.000000</td>\n",
       "      <td>1.916092e+07</td>\n",
       "      <td>2.677134e+09</td>\n",
       "      <td>0.000000</td>\n",
       "    </tr>\n",
       "    <tr>\n",
       "      <th>50%</th>\n",
       "      <td>500000.500000</td>\n",
       "      <td>5.088144e+08</td>\n",
       "      <td>50492.000000</td>\n",
       "      <td>1.950090e+07</td>\n",
       "      <td>5.399910e+09</td>\n",
       "      <td>0.000000</td>\n",
       "    </tr>\n",
       "    <tr>\n",
       "      <th>75%</th>\n",
       "      <td>750000.250000</td>\n",
       "      <td>7.630924e+08</td>\n",
       "      <td>74496.000000</td>\n",
       "      <td>1.983032e+07</td>\n",
       "      <td>8.109241e+09</td>\n",
       "      <td>0.000000</td>\n",
       "    </tr>\n",
       "    <tr>\n",
       "      <th>max</th>\n",
       "      <td>1000000.000000</td>\n",
       "      <td>1.000000e+09</td>\n",
       "      <td>99999.000000</td>\n",
       "      <td>2.016103e+07</td>\n",
       "      <td>1.000000e+10</td>\n",
       "      <td>1.000000</td>\n",
       "    </tr>\n",
       "  </tbody>\n",
       "</table>\n",
       "</div>"
      ],
      "text/plain": [
       "               record           ssn            zip5           dob  \\\n",
       "count  1000000.000000  1.000000e+06  1000000.000000  1.000000e+06   \n",
       "mean    500000.500000  5.083415e+08    50073.333143  1.951725e+07   \n",
       "std     288675.278933  2.934864e+08    28915.921546  3.568872e+05   \n",
       "min          1.000000  3.600000e+01        2.000000  1.900010e+07   \n",
       "25%     250000.750000  2.542176e+08    24992.000000  1.916092e+07   \n",
       "50%     500000.500000  5.088144e+08    50492.000000  1.950090e+07   \n",
       "75%     750000.250000  7.630924e+08    74496.000000  1.983032e+07   \n",
       "max    1000000.000000  1.000000e+09    99999.000000  2.016103e+07   \n",
       "\n",
       "          homephone     fraud_label  \n",
       "count  1.000000e+06  1000000.000000  \n",
       "mean   5.368716e+09        0.014393  \n",
       "std    3.082161e+09        0.119104  \n",
       "min    5.937990e+05        0.000000  \n",
       "25%    2.677134e+09        0.000000  \n",
       "50%    5.399910e+09        0.000000  \n",
       "75%    8.109241e+09        0.000000  \n",
       "max    1.000000e+10        1.000000  "
      ]
     },
     "execution_count": 14,
     "metadata": {},
     "output_type": "execute_result"
    }
   ],
   "source": [
    "data.describe()"
   ]
  },
  {
   "cell_type": "code",
   "execution_count": 15,
   "metadata": {},
   "outputs": [
    {
     "data": {
      "text/plain": [
       "record         1000000\n",
       "date           1000000\n",
       "ssn            1000000\n",
       "firstname      1000000\n",
       "lastname       1000000\n",
       "address        1000000\n",
       "zip5           1000000\n",
       "dob            1000000\n",
       "homephone      1000000\n",
       "fraud_label    1000000\n",
       "dtype: int64"
      ]
     },
     "execution_count": 15,
     "metadata": {},
     "output_type": "execute_result"
    }
   ],
   "source": [
    "data.count()"
   ]
  },
  {
   "cell_type": "code",
   "execution_count": 16,
   "metadata": {},
   "outputs": [
    {
     "data": {
      "text/plain": [
       "14393"
      ]
     },
     "execution_count": 16,
     "metadata": {},
     "output_type": "execute_result"
    }
   ],
   "source": [
    "data['fraud_label'].sum()"
   ]
  },
  {
   "cell_type": "code",
   "execution_count": 17,
   "metadata": {},
   "outputs": [],
   "source": [
    "goods = data[data['fraud_label'] == 0]\n",
    "bads = data[data['fraud_label'] == 1]"
   ]
  },
  {
   "cell_type": "code",
   "execution_count": 18,
   "metadata": {},
   "outputs": [
    {
     "name": "stdout",
     "output_type": "stream",
     "text": [
      "1000000\n"
     ]
    }
   ],
   "source": [
    "numrecords = len(data)\n",
    "print(numrecords)"
   ]
  },
  {
   "cell_type": "code",
   "execution_count": 19,
   "metadata": {},
   "outputs": [
    {
     "name": "stdout",
     "output_type": "stream",
     "text": [
      "985607\n"
     ]
    }
   ],
   "source": [
    "print(len(goods))"
   ]
  },
  {
   "cell_type": "code",
   "execution_count": 20,
   "metadata": {},
   "outputs": [
    {
     "name": "stdout",
     "output_type": "stream",
     "text": [
      "14393\n"
     ]
    }
   ],
   "source": [
    "print(len(bads))"
   ]
  },
  {
   "cell_type": "code",
   "execution_count": 21,
   "metadata": {},
   "outputs": [
    {
     "name": "stdout",
     "output_type": "stream",
     "text": [
      "1000000\n"
     ]
    }
   ],
   "source": [
    "print(len(goods) + len(bads))"
   ]
  },
  {
   "cell_type": "code",
   "execution_count": 22,
   "metadata": {},
   "outputs": [
    {
     "data": {
      "text/plain": [
       "1000000"
      ]
     },
     "execution_count": 22,
     "metadata": {},
     "output_type": "execute_result"
    }
   ],
   "source": [
    "len(data['record'].unique())"
   ]
  },
  {
   "cell_type": "code",
   "execution_count": 23,
   "metadata": {},
   "outputs": [
    {
     "data": {
      "text/plain": [
       "100.0"
      ]
     },
     "execution_count": 23,
     "metadata": {},
     "output_type": "execute_result"
    }
   ],
   "source": [
    "len(data['record']) * 100 / numrecords"
   ]
  },
  {
   "cell_type": "code",
   "execution_count": 24,
   "metadata": {},
   "outputs": [
    {
     "data": {
      "text/plain": [
       "100.0"
      ]
     },
     "execution_count": 24,
     "metadata": {},
     "output_type": "execute_result"
    }
   ],
   "source": [
    "len(data['date']) * 100 / numrecords"
   ]
  },
  {
   "cell_type": "code",
   "execution_count": 25,
   "metadata": {},
   "outputs": [
    {
     "data": {
      "text/plain": [
       "365"
      ]
     },
     "execution_count": 25,
     "metadata": {},
     "output_type": "execute_result"
    }
   ],
   "source": [
    "len(data['date'].unique())"
   ]
  },
  {
   "cell_type": "code",
   "execution_count": 26,
   "metadata": {},
   "outputs": [
    {
     "data": {
      "text/html": [
       "<div>\n",
       "<style scoped>\n",
       "    .dataframe tbody tr th:only-of-type {\n",
       "        vertical-align: middle;\n",
       "    }\n",
       "\n",
       "    .dataframe tbody tr th {\n",
       "        vertical-align: top;\n",
       "    }\n",
       "\n",
       "    .dataframe thead th {\n",
       "        text-align: right;\n",
       "    }\n",
       "</style>\n",
       "<table border=\"1\" class=\"dataframe\">\n",
       "  <thead>\n",
       "    <tr style=\"text-align: right;\">\n",
       "      <th></th>\n",
       "      <th>record</th>\n",
       "      <th>ssn</th>\n",
       "      <th>firstname</th>\n",
       "      <th>lastname</th>\n",
       "      <th>address</th>\n",
       "      <th>zip5</th>\n",
       "      <th>dob</th>\n",
       "      <th>homephone</th>\n",
       "      <th>fraud_label</th>\n",
       "    </tr>\n",
       "    <tr>\n",
       "      <th>date</th>\n",
       "      <th></th>\n",
       "      <th></th>\n",
       "      <th></th>\n",
       "      <th></th>\n",
       "      <th></th>\n",
       "      <th></th>\n",
       "      <th></th>\n",
       "      <th></th>\n",
       "      <th></th>\n",
       "    </tr>\n",
       "  </thead>\n",
       "  <tbody>\n",
       "    <tr>\n",
       "      <th>2017-01-01</th>\n",
       "      <td>2840</td>\n",
       "      <td>2840</td>\n",
       "      <td>2840</td>\n",
       "      <td>2840</td>\n",
       "      <td>2840</td>\n",
       "      <td>2840</td>\n",
       "      <td>2840</td>\n",
       "      <td>2840</td>\n",
       "      <td>2840</td>\n",
       "    </tr>\n",
       "    <tr>\n",
       "      <th>2017-01-02</th>\n",
       "      <td>2719</td>\n",
       "      <td>2719</td>\n",
       "      <td>2719</td>\n",
       "      <td>2719</td>\n",
       "      <td>2719</td>\n",
       "      <td>2719</td>\n",
       "      <td>2719</td>\n",
       "      <td>2719</td>\n",
       "      <td>2719</td>\n",
       "    </tr>\n",
       "    <tr>\n",
       "      <th>2017-01-03</th>\n",
       "      <td>2764</td>\n",
       "      <td>2764</td>\n",
       "      <td>2764</td>\n",
       "      <td>2764</td>\n",
       "      <td>2764</td>\n",
       "      <td>2764</td>\n",
       "      <td>2764</td>\n",
       "      <td>2764</td>\n",
       "      <td>2764</td>\n",
       "    </tr>\n",
       "    <tr>\n",
       "      <th>2017-01-04</th>\n",
       "      <td>2757</td>\n",
       "      <td>2757</td>\n",
       "      <td>2757</td>\n",
       "      <td>2757</td>\n",
       "      <td>2757</td>\n",
       "      <td>2757</td>\n",
       "      <td>2757</td>\n",
       "      <td>2757</td>\n",
       "      <td>2757</td>\n",
       "    </tr>\n",
       "    <tr>\n",
       "      <th>2017-01-05</th>\n",
       "      <td>2732</td>\n",
       "      <td>2732</td>\n",
       "      <td>2732</td>\n",
       "      <td>2732</td>\n",
       "      <td>2732</td>\n",
       "      <td>2732</td>\n",
       "      <td>2732</td>\n",
       "      <td>2732</td>\n",
       "      <td>2732</td>\n",
       "    </tr>\n",
       "    <tr>\n",
       "      <th>2017-01-06</th>\n",
       "      <td>2682</td>\n",
       "      <td>2682</td>\n",
       "      <td>2682</td>\n",
       "      <td>2682</td>\n",
       "      <td>2682</td>\n",
       "      <td>2682</td>\n",
       "      <td>2682</td>\n",
       "      <td>2682</td>\n",
       "      <td>2682</td>\n",
       "    </tr>\n",
       "    <tr>\n",
       "      <th>2017-01-07</th>\n",
       "      <td>2782</td>\n",
       "      <td>2782</td>\n",
       "      <td>2782</td>\n",
       "      <td>2782</td>\n",
       "      <td>2782</td>\n",
       "      <td>2782</td>\n",
       "      <td>2782</td>\n",
       "      <td>2782</td>\n",
       "      <td>2782</td>\n",
       "    </tr>\n",
       "    <tr>\n",
       "      <th>2017-01-08</th>\n",
       "      <td>2809</td>\n",
       "      <td>2809</td>\n",
       "      <td>2809</td>\n",
       "      <td>2809</td>\n",
       "      <td>2809</td>\n",
       "      <td>2809</td>\n",
       "      <td>2809</td>\n",
       "      <td>2809</td>\n",
       "      <td>2809</td>\n",
       "    </tr>\n",
       "    <tr>\n",
       "      <th>2017-01-09</th>\n",
       "      <td>2779</td>\n",
       "      <td>2779</td>\n",
       "      <td>2779</td>\n",
       "      <td>2779</td>\n",
       "      <td>2779</td>\n",
       "      <td>2779</td>\n",
       "      <td>2779</td>\n",
       "      <td>2779</td>\n",
       "      <td>2779</td>\n",
       "    </tr>\n",
       "    <tr>\n",
       "      <th>2017-01-10</th>\n",
       "      <td>2758</td>\n",
       "      <td>2758</td>\n",
       "      <td>2758</td>\n",
       "      <td>2758</td>\n",
       "      <td>2758</td>\n",
       "      <td>2758</td>\n",
       "      <td>2758</td>\n",
       "      <td>2758</td>\n",
       "      <td>2758</td>\n",
       "    </tr>\n",
       "  </tbody>\n",
       "</table>\n",
       "</div>"
      ],
      "text/plain": [
       "            record   ssn  firstname  lastname  address  zip5   dob  homephone  \\\n",
       "date                                                                            \n",
       "2017-01-01    2840  2840       2840      2840     2840  2840  2840       2840   \n",
       "2017-01-02    2719  2719       2719      2719     2719  2719  2719       2719   \n",
       "2017-01-03    2764  2764       2764      2764     2764  2764  2764       2764   \n",
       "2017-01-04    2757  2757       2757      2757     2757  2757  2757       2757   \n",
       "2017-01-05    2732  2732       2732      2732     2732  2732  2732       2732   \n",
       "2017-01-06    2682  2682       2682      2682     2682  2682  2682       2682   \n",
       "2017-01-07    2782  2782       2782      2782     2782  2782  2782       2782   \n",
       "2017-01-08    2809  2809       2809      2809     2809  2809  2809       2809   \n",
       "2017-01-09    2779  2779       2779      2779     2779  2779  2779       2779   \n",
       "2017-01-10    2758  2758       2758      2758     2758  2758  2758       2758   \n",
       "\n",
       "            fraud_label  \n",
       "date                     \n",
       "2017-01-01         2840  \n",
       "2017-01-02         2719  \n",
       "2017-01-03         2764  \n",
       "2017-01-04         2757  \n",
       "2017-01-05         2732  \n",
       "2017-01-06         2682  \n",
       "2017-01-07         2782  \n",
       "2017-01-08         2809  \n",
       "2017-01-09         2779  \n",
       "2017-01-10         2758  "
      ]
     },
     "execution_count": 26,
     "metadata": {},
     "output_type": "execute_result"
    }
   ],
   "source": [
    "count_day = data.groupby('date').count()\n",
    "count_day.head(10)"
   ]
  },
  {
   "cell_type": "code",
   "execution_count": 27,
   "metadata": {
    "scrolled": false
   },
   "outputs": [
    {
     "data": {
      "text/plain": [
       "<AxesSubplot:title={'center':'Daily Applications'}, xlabel='date'>"
      ]
     },
     "execution_count": 27,
     "metadata": {},
     "output_type": "execute_result"
    },
    {
     "data": {
      "image/png": "[encoded data removed]",
      "text/plain": [
       "<Figure size 432x288 with 1 Axes>"
      ]
     },
     "metadata": {
      "needs_background": "light"
     },
     "output_type": "display_data"
    }
   ],
   "source": [
    "daily_count = data.assign(trx = np.ones(numrecords)).set_index(data['date']).resample(dt.timedelta(days = 1))\\\n",
    "    .count().trx\n",
    "daily_count.plot(title = 'Daily Applications')"
   ]
  },
  {
   "cell_type": "code",
   "execution_count": 28,
   "metadata": {},
   "outputs": [
    {
     "data": {
      "text/plain": [
       "date\n",
       "2017-01-01    2840\n",
       "2017-01-02    2719\n",
       "2017-01-03    2764\n",
       "2017-01-04    2757\n",
       "2017-01-05    2732\n",
       "              ... \n",
       "2017-03-07    2831\n",
       "2017-03-08    2798\n",
       "2017-03-09    2738\n",
       "2017-03-10    2643\n",
       "2017-03-11    2607\n",
       "Freq: D, Name: trx, Length: 70, dtype: int64"
      ]
     },
     "execution_count": 28,
     "metadata": {},
     "output_type": "execute_result"
    }
   ],
   "source": [
    "daily_count.head(70)"
   ]
  },
  {
   "cell_type": "code",
   "execution_count": 29,
   "metadata": {},
   "outputs": [],
   "source": [
    "# daily_count['2016-02-29'] = daily_count['2016-02-28']\n",
    "# daily_count.head(70)"
   ]
  },
  {
   "cell_type": "code",
   "execution_count": 30,
   "metadata": {},
   "outputs": [
    {
     "data": {
      "text/plain": [
       "<AxesSubplot:title={'center':'Daily Applications'}, xlabel='date'>"
      ]
     },
     "execution_count": 30,
     "metadata": {},
     "output_type": "execute_result"
    },
    {
     "data": {
      "image/png": "[encoded data removed]",
      "text/plain": [
       "<Figure size 432x288 with 1 Axes>"
      ]
     },
     "metadata": {
      "needs_background": "light"
     },
     "output_type": "display_data"
    }
   ],
   "source": [
    "daily_count.plot(title = 'Daily Applications')"
   ]
  },
  {
   "cell_type": "code",
   "execution_count": 31,
   "metadata": {},
   "outputs": [
    {
     "data": {
      "text/plain": [
       "<AxesSubplot:title={'center':'Daily Applicationss'}, xlabel='date'>"
      ]
     },
     "execution_count": 31,
     "metadata": {},
     "output_type": "execute_result"
    },
    {
     "data": {
      "image/png": "[encoded data removed]",
      "text/plain": [
       "<Figure size 432x288 with 1 Axes>"
      ]
     },
     "metadata": {
      "needs_background": "light"
     },
     "output_type": "display_data"
    }
   ],
   "source": [
    "ngoods = len(goods)\n",
    "nbads = len(bads)\n",
    "goods_series = goods.assign(trx = np.ones(ngoods)).set_index(goods['date']).resample(dt.timedelta(days = 1)).count().trx\n",
    "norm_goods_series = goods_series / ngoods\n",
    "norm_goods_series.plot(title = 'Daily Applicationss', color = 'green')\n",
    "bads_series = bads.assign(trx = np.ones(nbads)).set_index(bads['date']).resample(dt.timedelta(days = 1)).count().trx\n",
    "norm_bads_series = bads_series / nbads\n",
    "norm_bads_series.plot(color = 'red')"
   ]
  },
  {
   "cell_type": "code",
   "execution_count": 32,
   "metadata": {},
   "outputs": [
    {
     "data": {
      "text/plain": [
       "<AxesSubplot:title={'center':'Weekly Applications'}, xlabel='date'>"
      ]
     },
     "execution_count": 32,
     "metadata": {},
     "output_type": "execute_result"
    },
    {
     "data": {
      "image/png": "[encoded data removed]",
      "text/plain": [
       "<Figure size 432x288 with 1 Axes>"
      ]
     },
     "metadata": {
      "needs_background": "light"
     },
     "output_type": "display_data"
    }
   ],
   "source": [
    "weekly_applications = data.assign(trx = np.ones(numrecords)).set_index(data['date']).resample(dt.timedelta(days = 7))\\\n",
    "    .count().trx\n",
    "weekly_applications.plot(title = 'Weekly Applications')"
   ]
  },
  {
   "cell_type": "code",
   "execution_count": 33,
   "metadata": {},
   "outputs": [
    {
     "data": {
      "text/plain": [
       "date\n",
       "2017-01-01    19276\n",
       "2017-01-08    19235\n",
       "2017-01-15    19272\n",
       "2017-01-22    19068\n",
       "2017-01-29    19363\n",
       "2017-02-05    19318\n",
       "2017-02-12    19081\n",
       "2017-02-19    19067\n",
       "2017-02-26    19392\n",
       "2017-03-05    19069\n",
       "2017-03-12    19227\n",
       "2017-03-19    19051\n",
       "2017-03-26    19178\n",
       "2017-04-02    19340\n",
       "2017-04-09    19080\n",
       "2017-04-16    19448\n",
       "2017-04-23    19237\n",
       "2017-04-30    19243\n",
       "2017-05-07    19253\n",
       "2017-05-14    19147\n",
       "2017-05-21    19183\n",
       "2017-05-28    19102\n",
       "2017-06-04    19451\n",
       "2017-06-11    19003\n",
       "2017-06-18    19114\n",
       "2017-06-25    18997\n",
       "2017-07-02    19004\n",
       "2017-07-09    19174\n",
       "2017-07-16    19370\n",
       "2017-07-23    19219\n",
       "2017-07-30    19162\n",
       "2017-08-06    19182\n",
       "2017-08-13    19189\n",
       "2017-08-20    19144\n",
       "2017-08-27    19141\n",
       "2017-09-03    19260\n",
       "2017-09-10    19179\n",
       "2017-09-17    19095\n",
       "2017-09-24    19328\n",
       "2017-10-01    19321\n",
       "2017-10-08    19069\n",
       "2017-10-15    19148\n",
       "2017-10-22    19203\n",
       "2017-10-29    18984\n",
       "2017-11-05    18997\n",
       "2017-11-12    18967\n",
       "2017-11-19    19127\n",
       "2017-11-26    19120\n",
       "2017-12-03    19297\n",
       "2017-12-10    19054\n",
       "2017-12-17    19022\n",
       "2017-12-24    19235\n",
       "2017-12-31     2814\n",
       "Freq: 7D, Name: trx, dtype: int64"
      ]
     },
     "execution_count": 33,
     "metadata": {},
     "output_type": "execute_result"
    }
   ],
   "source": [
    "weekly_applications.head(60)"
   ]
  },
  {
   "cell_type": "code",
   "execution_count": 34,
   "metadata": {},
   "outputs": [
    {
     "data": {
      "text/plain": [
       "<AxesSubplot:title={'center':'Weekly Applications'}, xlabel='date'>"
      ]
     },
     "execution_count": 34,
     "metadata": {},
     "output_type": "execute_result"
    },
    {
     "data": {
      "image/png": "[encoded data removed]",
      "text/plain": [
       "<Figure size 432x288 with 1 Axes>"
      ]
     },
     "metadata": {
      "needs_background": "light"
     },
     "output_type": "display_data"
    }
   ],
   "source": [
    "weekly_applications['2017-12-31'] = weekly_applications['2017-12-24']\n",
    "weekly_applications.plot(title = 'Weekly Applications')"
   ]
  },
  {
   "cell_type": "code",
   "execution_count": 35,
   "metadata": {},
   "outputs": [
    {
     "data": {
      "text/plain": [
       "<AxesSubplot:title={'center':'Weeky Applications'}, xlabel='date'>"
      ]
     },
     "execution_count": 35,
     "metadata": {},
     "output_type": "execute_result"
    },
    {
     "data": {
      "image/png": "[encoded data removed]",
      "text/plain": [
       "<Figure size 432x288 with 1 Axes>"
      ]
     },
     "metadata": {
      "needs_background": "light"
     },
     "output_type": "display_data"
    }
   ],
   "source": [
    "goods_series = goods.assign(trx = np.ones(ngoods)).set_index(goods['date']).resample(dt.timedelta(days = 7)).count().trx\n",
    "norm_goods_series = goods_series / ngoods\n",
    "norm_goods_series.plot(title = 'Weeky Applications', color = 'green')\n",
    "bads_series = bads.assign(trx = np.ones(nbads)).set_index(bads['date']).resample(dt.timedelta(days = 7)).count().trx\n",
    "norm_bads_series = bads_series / nbads\n",
    "norm_bads_series.plot(color = 'red')"
   ]
  },
  {
   "cell_type": "code",
   "execution_count": 36,
   "metadata": {},
   "outputs": [
    {
     "data": {
      "text/plain": [
       "100.0"
      ]
     },
     "execution_count": 36,
     "metadata": {},
     "output_type": "execute_result"
    }
   ],
   "source": [
    "len(data['ssn']) * 100 / numrecords"
   ]
  },
  {
   "cell_type": "code",
   "execution_count": 37,
   "metadata": {},
   "outputs": [
    {
     "data": {
      "text/plain": [
       "835819"
      ]
     },
     "execution_count": 37,
     "metadata": {},
     "output_type": "execute_result"
    }
   ],
   "source": [
    "len(data['ssn'].unique())"
   ]
  },
  {
   "cell_type": "code",
   "execution_count": 38,
   "metadata": {},
   "outputs": [
    {
     "data": {
      "text/plain": [
       "999999999    16935\n",
       "938972725      114\n",
       "810776805       81\n",
       "829352390       74\n",
       "473311863       44\n",
       "             ...  \n",
       "571979227        1\n",
       "154696808        1\n",
       "962389432        1\n",
       "746697518        1\n",
       "361232148        1\n",
       "Name: ssn, Length: 835819, dtype: int64"
      ]
     },
     "execution_count": 38,
     "metadata": {},
     "output_type": "execute_result"
    }
   ],
   "source": [
    "data['ssn'].value_counts()"
   ]
  },
  {
   "cell_type": "code",
   "execution_count": 39,
   "metadata": {},
   "outputs": [
    {
     "data": {
      "text/plain": [
       "<AxesSubplot:>"
      ]
     },
     "execution_count": 39,
     "metadata": {},
     "output_type": "execute_result"
    },
    {
     "data": {
      "image/png": "[encoded data removed]",
      "text/plain": [
       "<Figure size 432x288 with 1 Axes>"
      ]
     },
     "metadata": {
      "needs_background": "light"
     },
     "output_type": "display_data"
    }
   ],
   "source": [
    "data['ssn'].value_counts().head(20).plot(kind='bar',logy=True)"
   ]
  },
  {
   "cell_type": "code",
   "execution_count": 40,
   "metadata": {
    "scrolled": true
   },
   "outputs": [
    {
     "data": {
      "image/png": "[encoded data removed]",
      "text/plain": [
       "<Figure size 432x288 with 1 Axes>"
      ]
     },
     "metadata": {},
     "output_type": "display_data"
    }
   ],
   "source": [
    "sns.set(font_scale=1.5)\n",
    "data['ssn'].value_counts().head(15).plot(kind = 'bar')\n",
    "plt.yscale('log')"
   ]
  },
  {
   "cell_type": "code",
   "execution_count": 41,
   "metadata": {},
   "outputs": [
    {
     "data": {
      "text/html": [
       "<div>\n",
       "<style scoped>\n",
       "    .dataframe tbody tr th:only-of-type {\n",
       "        vertical-align: middle;\n",
       "    }\n",
       "\n",
       "    .dataframe tbody tr th {\n",
       "        vertical-align: top;\n",
       "    }\n",
       "\n",
       "    .dataframe thead th {\n",
       "        text-align: right;\n",
       "    }\n",
       "</style>\n",
       "<table border=\"1\" class=\"dataframe\">\n",
       "  <thead>\n",
       "    <tr style=\"text-align: right;\">\n",
       "      <th></th>\n",
       "      <th>record</th>\n",
       "      <th>date</th>\n",
       "      <th>ssn</th>\n",
       "      <th>firstname</th>\n",
       "      <th>lastname</th>\n",
       "      <th>address</th>\n",
       "      <th>zip5</th>\n",
       "      <th>dob</th>\n",
       "      <th>homephone</th>\n",
       "      <th>fraud_label</th>\n",
       "    </tr>\n",
       "  </thead>\n",
       "  <tbody>\n",
       "    <tr>\n",
       "      <th>10</th>\n",
       "      <td>11</td>\n",
       "      <td>2017-01-01</td>\n",
       "      <td>999999999</td>\n",
       "      <td>UZZSMXSEE</td>\n",
       "      <td>USJZUSA</td>\n",
       "      <td>726 UMTXU ST</td>\n",
       "      <td>92129</td>\n",
       "      <td>19400126</td>\n",
       "      <td>3026547212</td>\n",
       "      <td>0</td>\n",
       "    </tr>\n",
       "    <tr>\n",
       "      <th>22</th>\n",
       "      <td>23</td>\n",
       "      <td>2017-01-01</td>\n",
       "      <td>999999999</td>\n",
       "      <td>ETXMUSZEM</td>\n",
       "      <td>UJMAMEU</td>\n",
       "      <td>3387 STRUM WY</td>\n",
       "      <td>45982</td>\n",
       "      <td>19580830</td>\n",
       "      <td>5568704443</td>\n",
       "      <td>0</td>\n",
       "    </tr>\n",
       "    <tr>\n",
       "      <th>64</th>\n",
       "      <td>65</td>\n",
       "      <td>2017-01-01</td>\n",
       "      <td>999999999</td>\n",
       "      <td>STUMMAMTS</td>\n",
       "      <td>SSJXTUJM</td>\n",
       "      <td>6393 UEJEA LN</td>\n",
       "      <td>41640</td>\n",
       "      <td>19070626</td>\n",
       "      <td>9999999999</td>\n",
       "      <td>0</td>\n",
       "    </tr>\n",
       "    <tr>\n",
       "      <th>68</th>\n",
       "      <td>69</td>\n",
       "      <td>2017-01-01</td>\n",
       "      <td>999999999</td>\n",
       "      <td>UUZAJXZMT</td>\n",
       "      <td>SRAAMZXU</td>\n",
       "      <td>2557 URRXS DR</td>\n",
       "      <td>98407</td>\n",
       "      <td>20110831</td>\n",
       "      <td>5490098836</td>\n",
       "      <td>0</td>\n",
       "    </tr>\n",
       "    <tr>\n",
       "      <th>74</th>\n",
       "      <td>75</td>\n",
       "      <td>2017-01-01</td>\n",
       "      <td>999999999</td>\n",
       "      <td>AUATMMZX</td>\n",
       "      <td>UUUTAZR</td>\n",
       "      <td>30 ETXRM ST</td>\n",
       "      <td>38402</td>\n",
       "      <td>19760625</td>\n",
       "      <td>2382673773</td>\n",
       "      <td>0</td>\n",
       "    </tr>\n",
       "    <tr>\n",
       "      <th>283</th>\n",
       "      <td>284</td>\n",
       "      <td>2017-01-01</td>\n",
       "      <td>999999999</td>\n",
       "      <td>MSJUZSMZJ</td>\n",
       "      <td>UXMTEZUT</td>\n",
       "      <td>356 UZSRE AVE</td>\n",
       "      <td>74187</td>\n",
       "      <td>19070626</td>\n",
       "      <td>153492955</td>\n",
       "      <td>0</td>\n",
       "    </tr>\n",
       "    <tr>\n",
       "      <th>380</th>\n",
       "      <td>381</td>\n",
       "      <td>2017-01-01</td>\n",
       "      <td>999999999</td>\n",
       "      <td>XRJSMRRRT</td>\n",
       "      <td>RMRXAMX</td>\n",
       "      <td>9769 UAMZJ DR</td>\n",
       "      <td>52351</td>\n",
       "      <td>19070626</td>\n",
       "      <td>3181686949</td>\n",
       "      <td>0</td>\n",
       "    </tr>\n",
       "    <tr>\n",
       "      <th>420</th>\n",
       "      <td>421</td>\n",
       "      <td>2017-01-01</td>\n",
       "      <td>999999999</td>\n",
       "      <td>XRXMTMZEZ</td>\n",
       "      <td>SZRXXJMX</td>\n",
       "      <td>5854 RXRXX PL</td>\n",
       "      <td>34957</td>\n",
       "      <td>19970721</td>\n",
       "      <td>316681200</td>\n",
       "      <td>0</td>\n",
       "    </tr>\n",
       "    <tr>\n",
       "      <th>446</th>\n",
       "      <td>447</td>\n",
       "      <td>2017-01-01</td>\n",
       "      <td>999999999</td>\n",
       "      <td>RRZUZUSX</td>\n",
       "      <td>ESZRRRAA</td>\n",
       "      <td>8970 AXME RD</td>\n",
       "      <td>48333</td>\n",
       "      <td>19110729</td>\n",
       "      <td>5350782211</td>\n",
       "      <td>0</td>\n",
       "    </tr>\n",
       "    <tr>\n",
       "      <th>468</th>\n",
       "      <td>469</td>\n",
       "      <td>2017-01-01</td>\n",
       "      <td>999999999</td>\n",
       "      <td>XETRJXESR</td>\n",
       "      <td>SSJXTUJM</td>\n",
       "      <td>6995 RMSST CT</td>\n",
       "      <td>48162</td>\n",
       "      <td>19700418</td>\n",
       "      <td>2503172355</td>\n",
       "      <td>0</td>\n",
       "    </tr>\n",
       "    <tr>\n",
       "      <th>520</th>\n",
       "      <td>521</td>\n",
       "      <td>2017-01-01</td>\n",
       "      <td>999999999</td>\n",
       "      <td>RTMMTSZRZ</td>\n",
       "      <td>MEAXJUX</td>\n",
       "      <td>8778 EMUEX AVE</td>\n",
       "      <td>15972</td>\n",
       "      <td>19070626</td>\n",
       "      <td>9999999999</td>\n",
       "      <td>0</td>\n",
       "    </tr>\n",
       "    <tr>\n",
       "      <th>607</th>\n",
       "      <td>608</td>\n",
       "      <td>2017-01-01</td>\n",
       "      <td>999999999</td>\n",
       "      <td>RTEAZZJJZ</td>\n",
       "      <td>USMATTUR</td>\n",
       "      <td>2370 EAJEZ RD</td>\n",
       "      <td>31476</td>\n",
       "      <td>20110109</td>\n",
       "      <td>9289374745</td>\n",
       "      <td>0</td>\n",
       "    </tr>\n",
       "    <tr>\n",
       "      <th>651</th>\n",
       "      <td>652</td>\n",
       "      <td>2017-01-01</td>\n",
       "      <td>999999999</td>\n",
       "      <td>REUJAUMUT</td>\n",
       "      <td>RATZUERE</td>\n",
       "      <td>7717 XRRXE DR</td>\n",
       "      <td>85203</td>\n",
       "      <td>19070626</td>\n",
       "      <td>5962238641</td>\n",
       "      <td>0</td>\n",
       "    </tr>\n",
       "    <tr>\n",
       "      <th>788</th>\n",
       "      <td>789</td>\n",
       "      <td>2017-01-01</td>\n",
       "      <td>999999999</td>\n",
       "      <td>EMMUZZEEZ</td>\n",
       "      <td>UZSEMAZJ</td>\n",
       "      <td>5370 SUTSR ST</td>\n",
       "      <td>45405</td>\n",
       "      <td>20060516</td>\n",
       "      <td>9999999999</td>\n",
       "      <td>0</td>\n",
       "    </tr>\n",
       "    <tr>\n",
       "      <th>899</th>\n",
       "      <td>900</td>\n",
       "      <td>2017-01-01</td>\n",
       "      <td>999999999</td>\n",
       "      <td>EASEXMJAT</td>\n",
       "      <td>UJUMXTZM</td>\n",
       "      <td>2007 MEM PL</td>\n",
       "      <td>52317</td>\n",
       "      <td>19000804</td>\n",
       "      <td>3301371772</td>\n",
       "      <td>0</td>\n",
       "    </tr>\n",
       "    <tr>\n",
       "      <th>907</th>\n",
       "      <td>908</td>\n",
       "      <td>2017-01-01</td>\n",
       "      <td>999999999</td>\n",
       "      <td>UXJXSXURA</td>\n",
       "      <td>RRARMXRX</td>\n",
       "      <td>4369 SZSAE BLVD</td>\n",
       "      <td>91060</td>\n",
       "      <td>20070105</td>\n",
       "      <td>9999999999</td>\n",
       "      <td>0</td>\n",
       "    </tr>\n",
       "    <tr>\n",
       "      <th>958</th>\n",
       "      <td>959</td>\n",
       "      <td>2017-01-01</td>\n",
       "      <td>999999999</td>\n",
       "      <td>XAREUJZUM</td>\n",
       "      <td>RTSUXJST</td>\n",
       "      <td>4265 EUSX ST</td>\n",
       "      <td>1804</td>\n",
       "      <td>19521002</td>\n",
       "      <td>3304391399</td>\n",
       "      <td>0</td>\n",
       "    </tr>\n",
       "    <tr>\n",
       "      <th>1000</th>\n",
       "      <td>1001</td>\n",
       "      <td>2017-01-01</td>\n",
       "      <td>999999999</td>\n",
       "      <td>ERXTXXZEX</td>\n",
       "      <td>XATTMRZ</td>\n",
       "      <td>5372 RXZTT DR</td>\n",
       "      <td>81912</td>\n",
       "      <td>20110604</td>\n",
       "      <td>4705993465</td>\n",
       "      <td>0</td>\n",
       "    </tr>\n",
       "    <tr>\n",
       "      <th>1032</th>\n",
       "      <td>1033</td>\n",
       "      <td>2017-01-01</td>\n",
       "      <td>999999999</td>\n",
       "      <td>XXXZMSJMU</td>\n",
       "      <td>RTESSAXZ</td>\n",
       "      <td>2066 EZMZJ LN</td>\n",
       "      <td>42979</td>\n",
       "      <td>19461025</td>\n",
       "      <td>2617622312</td>\n",
       "      <td>0</td>\n",
       "    </tr>\n",
       "    <tr>\n",
       "      <th>1105</th>\n",
       "      <td>1106</td>\n",
       "      <td>2017-01-01</td>\n",
       "      <td>999999999</td>\n",
       "      <td>XXUMRXASU</td>\n",
       "      <td>STJRSZRZ</td>\n",
       "      <td>6848 SAJSM AVE</td>\n",
       "      <td>4400</td>\n",
       "      <td>20100209</td>\n",
       "      <td>5603700004</td>\n",
       "      <td>0</td>\n",
       "    </tr>\n",
       "  </tbody>\n",
       "</table>\n",
       "</div>"
      ],
      "text/plain": [
       "      record       date        ssn  firstname  lastname          address  \\\n",
       "10        11 2017-01-01  999999999  UZZSMXSEE   USJZUSA     726 UMTXU ST   \n",
       "22        23 2017-01-01  999999999  ETXMUSZEM   UJMAMEU    3387 STRUM WY   \n",
       "64        65 2017-01-01  999999999  STUMMAMTS  SSJXTUJM    6393 UEJEA LN   \n",
       "68        69 2017-01-01  999999999  UUZAJXZMT  SRAAMZXU    2557 URRXS DR   \n",
       "74        75 2017-01-01  999999999   AUATMMZX   UUUTAZR      30 ETXRM ST   \n",
       "283      284 2017-01-01  999999999  MSJUZSMZJ  UXMTEZUT    356 UZSRE AVE   \n",
       "380      381 2017-01-01  999999999  XRJSMRRRT   RMRXAMX    9769 UAMZJ DR   \n",
       "420      421 2017-01-01  999999999  XRXMTMZEZ  SZRXXJMX    5854 RXRXX PL   \n",
       "446      447 2017-01-01  999999999   RRZUZUSX  ESZRRRAA     8970 AXME RD   \n",
       "468      469 2017-01-01  999999999  XETRJXESR  SSJXTUJM    6995 RMSST CT   \n",
       "520      521 2017-01-01  999999999  RTMMTSZRZ   MEAXJUX   8778 EMUEX AVE   \n",
       "607      608 2017-01-01  999999999  RTEAZZJJZ  USMATTUR    2370 EAJEZ RD   \n",
       "651      652 2017-01-01  999999999  REUJAUMUT  RATZUERE    7717 XRRXE DR   \n",
       "788      789 2017-01-01  999999999  EMMUZZEEZ  UZSEMAZJ    5370 SUTSR ST   \n",
       "899      900 2017-01-01  999999999  EASEXMJAT  UJUMXTZM      2007 MEM PL   \n",
       "907      908 2017-01-01  999999999  UXJXSXURA  RRARMXRX  4369 SZSAE BLVD   \n",
       "958      959 2017-01-01  999999999  XAREUJZUM  RTSUXJST     4265 EUSX ST   \n",
       "1000    1001 2017-01-01  999999999  ERXTXXZEX   XATTMRZ    5372 RXZTT DR   \n",
       "1032    1033 2017-01-01  999999999  XXXZMSJMU  RTESSAXZ    2066 EZMZJ LN   \n",
       "1105    1106 2017-01-01  999999999  XXUMRXASU  STJRSZRZ   6848 SAJSM AVE   \n",
       "\n",
       "       zip5       dob   homephone  fraud_label  \n",
       "10    92129  19400126  3026547212            0  \n",
       "22    45982  19580830  5568704443            0  \n",
       "64    41640  19070626  9999999999            0  \n",
       "68    98407  20110831  5490098836            0  \n",
       "74    38402  19760625  2382673773            0  \n",
       "283   74187  19070626   153492955            0  \n",
       "380   52351  19070626  3181686949            0  \n",
       "420   34957  19970721   316681200            0  \n",
       "446   48333  19110729  5350782211            0  \n",
       "468   48162  19700418  2503172355            0  \n",
       "520   15972  19070626  9999999999            0  \n",
       "607   31476  20110109  9289374745            0  \n",
       "651   85203  19070626  5962238641            0  \n",
       "788   45405  20060516  9999999999            0  \n",
       "899   52317  19000804  3301371772            0  \n",
       "907   91060  20070105  9999999999            0  \n",
       "958    1804  19521002  3304391399            0  \n",
       "1000  81912  20110604  4705993465            0  \n",
       "1032  42979  19461025  2617622312            0  \n",
       "1105   4400  20100209  5603700004            0  "
      ]
     },
     "execution_count": 41,
     "metadata": {},
     "output_type": "execute_result"
    }
   ],
   "source": [
    "data[data['ssn'] == 999999999].head(20)"
   ]
  },
  {
   "cell_type": "code",
   "execution_count": 42,
   "metadata": {
    "scrolled": true
   },
   "outputs": [
    {
     "data": {
      "text/plain": [
       "16935"
      ]
     },
     "execution_count": 42,
     "metadata": {},
     "output_type": "execute_result"
    }
   ],
   "source": [
    "len(data[data['ssn'] == 999999999])"
   ]
  },
  {
   "cell_type": "code",
   "execution_count": 43,
   "metadata": {
    "scrolled": true
   },
   "outputs": [],
   "source": [
    "data.loc[data['ssn'] == 999999999, 'ssn'] = data.loc[data['ssn'] == 999999999, 'record']"
   ]
  },
  {
   "cell_type": "code",
   "execution_count": 44,
   "metadata": {},
   "outputs": [
    {
     "data": {
      "text/plain": [
       "0"
      ]
     },
     "execution_count": 44,
     "metadata": {},
     "output_type": "execute_result"
    }
   ],
   "source": [
    "len(data[data['ssn'] == 999999999])"
   ]
  },
  {
   "cell_type": "code",
   "execution_count": 45,
   "metadata": {},
   "outputs": [
    {
     "data": {
      "text/html": [
       "<div>\n",
       "<style scoped>\n",
       "    .dataframe tbody tr th:only-of-type {\n",
       "        vertical-align: middle;\n",
       "    }\n",
       "\n",
       "    .dataframe tbody tr th {\n",
       "        vertical-align: top;\n",
       "    }\n",
       "\n",
       "    .dataframe thead th {\n",
       "        text-align: right;\n",
       "    }\n",
       "</style>\n",
       "<table border=\"1\" class=\"dataframe\">\n",
       "  <thead>\n",
       "    <tr style=\"text-align: right;\">\n",
       "      <th></th>\n",
       "      <th>record</th>\n",
       "      <th>date</th>\n",
       "      <th>ssn</th>\n",
       "      <th>firstname</th>\n",
       "      <th>lastname</th>\n",
       "      <th>address</th>\n",
       "      <th>zip5</th>\n",
       "      <th>dob</th>\n",
       "      <th>homephone</th>\n",
       "      <th>fraud_label</th>\n",
       "    </tr>\n",
       "  </thead>\n",
       "  <tbody>\n",
       "    <tr>\n",
       "      <th>0</th>\n",
       "      <td>1</td>\n",
       "      <td>2017-01-01</td>\n",
       "      <td>379070012</td>\n",
       "      <td>XRRAMMTR</td>\n",
       "      <td>SMJETJMJ</td>\n",
       "      <td>6861 EUTST PL</td>\n",
       "      <td>2765</td>\n",
       "      <td>19070626</td>\n",
       "      <td>1797504115</td>\n",
       "      <td>0</td>\n",
       "    </tr>\n",
       "    <tr>\n",
       "      <th>1</th>\n",
       "      <td>2</td>\n",
       "      <td>2017-01-01</td>\n",
       "      <td>387482503</td>\n",
       "      <td>MAMSTUJR</td>\n",
       "      <td>RTTEMRRR</td>\n",
       "      <td>7280 URASA PL</td>\n",
       "      <td>57169</td>\n",
       "      <td>19340615</td>\n",
       "      <td>4164239415</td>\n",
       "      <td>1</td>\n",
       "    </tr>\n",
       "    <tr>\n",
       "      <th>2</th>\n",
       "      <td>3</td>\n",
       "      <td>2017-01-01</td>\n",
       "      <td>200332444</td>\n",
       "      <td>SZMMUJEZS</td>\n",
       "      <td>EUSEZRAE</td>\n",
       "      <td>5581 RSREX LN</td>\n",
       "      <td>56721</td>\n",
       "      <td>19070626</td>\n",
       "      <td>216537580</td>\n",
       "      <td>0</td>\n",
       "    </tr>\n",
       "    <tr>\n",
       "      <th>3</th>\n",
       "      <td>4</td>\n",
       "      <td>2017-01-01</td>\n",
       "      <td>747451317</td>\n",
       "      <td>SJJZSXRSZ</td>\n",
       "      <td>ETJXTXXS</td>\n",
       "      <td>1387 UJZXJ RD</td>\n",
       "      <td>35286</td>\n",
       "      <td>19440430</td>\n",
       "      <td>132144161</td>\n",
       "      <td>0</td>\n",
       "    </tr>\n",
       "    <tr>\n",
       "      <th>4</th>\n",
       "      <td>5</td>\n",
       "      <td>2017-01-01</td>\n",
       "      <td>24065868</td>\n",
       "      <td>SSSXUEJMS</td>\n",
       "      <td>SSUUJXUZ</td>\n",
       "      <td>279 EAASA WY</td>\n",
       "      <td>3173</td>\n",
       "      <td>19980315</td>\n",
       "      <td>6101082272</td>\n",
       "      <td>0</td>\n",
       "    </tr>\n",
       "    <tr>\n",
       "      <th>5</th>\n",
       "      <td>6</td>\n",
       "      <td>2017-01-01</td>\n",
       "      <td>922264214</td>\n",
       "      <td>XEEJJSTER</td>\n",
       "      <td>ERJSAXA</td>\n",
       "      <td>4322 USJXU LN</td>\n",
       "      <td>8391</td>\n",
       "      <td>19480613</td>\n",
       "      <td>5742016319</td>\n",
       "      <td>0</td>\n",
       "    </tr>\n",
       "    <tr>\n",
       "      <th>6</th>\n",
       "      <td>7</td>\n",
       "      <td>2017-01-01</td>\n",
       "      <td>415812149</td>\n",
       "      <td>XZJRJUSRR</td>\n",
       "      <td>STSMJRUM</td>\n",
       "      <td>478 EEXUM LN</td>\n",
       "      <td>41640</td>\n",
       "      <td>19640318</td>\n",
       "      <td>7697396312</td>\n",
       "      <td>0</td>\n",
       "    </tr>\n",
       "    <tr>\n",
       "      <th>7</th>\n",
       "      <td>8</td>\n",
       "      <td>2017-01-01</td>\n",
       "      <td>373752050</td>\n",
       "      <td>EJMRRSUXR</td>\n",
       "      <td>AMTZXRU</td>\n",
       "      <td>8906 UUAJ PL</td>\n",
       "      <td>60567</td>\n",
       "      <td>19190528</td>\n",
       "      <td>2727421586</td>\n",
       "      <td>0</td>\n",
       "    </tr>\n",
       "    <tr>\n",
       "      <th>8</th>\n",
       "      <td>9</td>\n",
       "      <td>2017-01-01</td>\n",
       "      <td>769970791</td>\n",
       "      <td>RXTSZJATS</td>\n",
       "      <td>RSXMRJME</td>\n",
       "      <td>8266 SSEAR RD</td>\n",
       "      <td>37934</td>\n",
       "      <td>19900314</td>\n",
       "      <td>5520652307</td>\n",
       "      <td>0</td>\n",
       "    </tr>\n",
       "    <tr>\n",
       "      <th>9</th>\n",
       "      <td>10</td>\n",
       "      <td>2017-01-01</td>\n",
       "      <td>732119085</td>\n",
       "      <td>EREMTZXXA</td>\n",
       "      <td>EXMMSEXT</td>\n",
       "      <td>9166 XXSAZ PL</td>\n",
       "      <td>93751</td>\n",
       "      <td>19750127</td>\n",
       "      <td>3749451123</td>\n",
       "      <td>0</td>\n",
       "    </tr>\n",
       "    <tr>\n",
       "      <th>10</th>\n",
       "      <td>11</td>\n",
       "      <td>2017-01-01</td>\n",
       "      <td>11</td>\n",
       "      <td>UZZSMXSEE</td>\n",
       "      <td>USJZUSA</td>\n",
       "      <td>726 UMTXU ST</td>\n",
       "      <td>92129</td>\n",
       "      <td>19400126</td>\n",
       "      <td>3026547212</td>\n",
       "      <td>0</td>\n",
       "    </tr>\n",
       "    <tr>\n",
       "      <th>11</th>\n",
       "      <td>12</td>\n",
       "      <td>2017-01-01</td>\n",
       "      <td>854773981</td>\n",
       "      <td>RSZXMZRSU</td>\n",
       "      <td>EZJAXJTZ</td>\n",
       "      <td>2561 RXJXU BLVD</td>\n",
       "      <td>9531</td>\n",
       "      <td>19471211</td>\n",
       "      <td>3896260651</td>\n",
       "      <td>0</td>\n",
       "    </tr>\n",
       "    <tr>\n",
       "      <th>12</th>\n",
       "      <td>13</td>\n",
       "      <td>2017-01-01</td>\n",
       "      <td>283419783</td>\n",
       "      <td>EJAASJXXM</td>\n",
       "      <td>UZZSAZJR</td>\n",
       "      <td>4365 UMXZA LN</td>\n",
       "      <td>82369</td>\n",
       "      <td>19000122</td>\n",
       "      <td>5874359299</td>\n",
       "      <td>0</td>\n",
       "    </tr>\n",
       "    <tr>\n",
       "      <th>13</th>\n",
       "      <td>14</td>\n",
       "      <td>2017-01-01</td>\n",
       "      <td>800705980</td>\n",
       "      <td>MUTAEUUZS</td>\n",
       "      <td>STAZJXRA</td>\n",
       "      <td>1683 RSEJM ST</td>\n",
       "      <td>66204</td>\n",
       "      <td>19400902</td>\n",
       "      <td>3903104222</td>\n",
       "      <td>0</td>\n",
       "    </tr>\n",
       "    <tr>\n",
       "      <th>14</th>\n",
       "      <td>15</td>\n",
       "      <td>2017-01-01</td>\n",
       "      <td>654640127</td>\n",
       "      <td>SUXZRSUZT</td>\n",
       "      <td>UAJRRXM</td>\n",
       "      <td>4961 RTZJA BLVD</td>\n",
       "      <td>61344</td>\n",
       "      <td>19360829</td>\n",
       "      <td>1754954648</td>\n",
       "      <td>0</td>\n",
       "    </tr>\n",
       "    <tr>\n",
       "      <th>15</th>\n",
       "      <td>16</td>\n",
       "      <td>2017-01-01</td>\n",
       "      <td>763049287</td>\n",
       "      <td>XAREMEUUU</td>\n",
       "      <td>SXXJSARX</td>\n",
       "      <td>6575 EXZXA RD</td>\n",
       "      <td>43912</td>\n",
       "      <td>19991228</td>\n",
       "      <td>3915611901</td>\n",
       "      <td>0</td>\n",
       "    </tr>\n",
       "    <tr>\n",
       "      <th>16</th>\n",
       "      <td>17</td>\n",
       "      <td>2017-01-01</td>\n",
       "      <td>610654961</td>\n",
       "      <td>UJSRSMUEZ</td>\n",
       "      <td>SJATAXXX</td>\n",
       "      <td>4057 SRZAE BLVD</td>\n",
       "      <td>29576</td>\n",
       "      <td>20080401</td>\n",
       "      <td>516200670</td>\n",
       "      <td>0</td>\n",
       "    </tr>\n",
       "    <tr>\n",
       "      <th>17</th>\n",
       "      <td>18</td>\n",
       "      <td>2017-01-01</td>\n",
       "      <td>346374636</td>\n",
       "      <td>XRSSZZUXT</td>\n",
       "      <td>ETXZXJAJ</td>\n",
       "      <td>5719 UEZJT PL</td>\n",
       "      <td>51486</td>\n",
       "      <td>19500110</td>\n",
       "      <td>9999999999</td>\n",
       "      <td>0</td>\n",
       "    </tr>\n",
       "    <tr>\n",
       "      <th>18</th>\n",
       "      <td>19</td>\n",
       "      <td>2017-01-01</td>\n",
       "      <td>722620451</td>\n",
       "      <td>UXJSUXJUJ</td>\n",
       "      <td>UUMRUSA</td>\n",
       "      <td>1198 XAZZR PL</td>\n",
       "      <td>93301</td>\n",
       "      <td>19901113</td>\n",
       "      <td>439009868</td>\n",
       "      <td>0</td>\n",
       "    </tr>\n",
       "    <tr>\n",
       "      <th>19</th>\n",
       "      <td>20</td>\n",
       "      <td>2017-01-01</td>\n",
       "      <td>892971652</td>\n",
       "      <td>XUTMSSREZ</td>\n",
       "      <td>UJEUUJXT</td>\n",
       "      <td>2350 EZTXX AVE</td>\n",
       "      <td>25166</td>\n",
       "      <td>20060815</td>\n",
       "      <td>1938458945</td>\n",
       "      <td>0</td>\n",
       "    </tr>\n",
       "    <tr>\n",
       "      <th>20</th>\n",
       "      <td>21</td>\n",
       "      <td>2017-01-01</td>\n",
       "      <td>344025146</td>\n",
       "      <td>SJAXEZAMT</td>\n",
       "      <td>MERAUUU</td>\n",
       "      <td>3142 MZZE WY</td>\n",
       "      <td>14589</td>\n",
       "      <td>19770328</td>\n",
       "      <td>6547182278</td>\n",
       "      <td>0</td>\n",
       "    </tr>\n",
       "    <tr>\n",
       "      <th>21</th>\n",
       "      <td>22</td>\n",
       "      <td>2017-01-01</td>\n",
       "      <td>624412170</td>\n",
       "      <td>RAJSJZUSZ</td>\n",
       "      <td>SSSEARET</td>\n",
       "      <td>3775 RUXE DR</td>\n",
       "      <td>21860</td>\n",
       "      <td>19870706</td>\n",
       "      <td>6485706942</td>\n",
       "      <td>0</td>\n",
       "    </tr>\n",
       "    <tr>\n",
       "      <th>22</th>\n",
       "      <td>23</td>\n",
       "      <td>2017-01-01</td>\n",
       "      <td>23</td>\n",
       "      <td>ETXMUSZEM</td>\n",
       "      <td>UJMAMEU</td>\n",
       "      <td>3387 STRUM WY</td>\n",
       "      <td>45982</td>\n",
       "      <td>19580830</td>\n",
       "      <td>5568704443</td>\n",
       "      <td>0</td>\n",
       "    </tr>\n",
       "    <tr>\n",
       "      <th>23</th>\n",
       "      <td>24</td>\n",
       "      <td>2017-01-01</td>\n",
       "      <td>240172205</td>\n",
       "      <td>RRSAZXXEJ</td>\n",
       "      <td>ESSJAZMA</td>\n",
       "      <td>8715 STRJX ST</td>\n",
       "      <td>94373</td>\n",
       "      <td>19770518</td>\n",
       "      <td>764218629</td>\n",
       "      <td>0</td>\n",
       "    </tr>\n",
       "    <tr>\n",
       "      <th>24</th>\n",
       "      <td>25</td>\n",
       "      <td>2017-01-01</td>\n",
       "      <td>425320780</td>\n",
       "      <td>SREZUJMJU</td>\n",
       "      <td>RXRRRTMX</td>\n",
       "      <td>626 STSRR ST</td>\n",
       "      <td>59453</td>\n",
       "      <td>19381224</td>\n",
       "      <td>9070020107</td>\n",
       "      <td>0</td>\n",
       "    </tr>\n",
       "  </tbody>\n",
       "</table>\n",
       "</div>"
      ],
      "text/plain": [
       "    record       date        ssn  firstname  lastname          address   zip5  \\\n",
       "0        1 2017-01-01  379070012   XRRAMMTR  SMJETJMJ    6861 EUTST PL   2765   \n",
       "1        2 2017-01-01  387482503   MAMSTUJR  RTTEMRRR    7280 URASA PL  57169   \n",
       "2        3 2017-01-01  200332444  SZMMUJEZS  EUSEZRAE    5581 RSREX LN  56721   \n",
       "3        4 2017-01-01  747451317  SJJZSXRSZ  ETJXTXXS    1387 UJZXJ RD  35286   \n",
       "4        5 2017-01-01   24065868  SSSXUEJMS  SSUUJXUZ     279 EAASA WY   3173   \n",
       "5        6 2017-01-01  922264214  XEEJJSTER   ERJSAXA    4322 USJXU LN   8391   \n",
       "6        7 2017-01-01  415812149  XZJRJUSRR  STSMJRUM     478 EEXUM LN  41640   \n",
       "7        8 2017-01-01  373752050  EJMRRSUXR   AMTZXRU     8906 UUAJ PL  60567   \n",
       "8        9 2017-01-01  769970791  RXTSZJATS  RSXMRJME    8266 SSEAR RD  37934   \n",
       "9       10 2017-01-01  732119085  EREMTZXXA  EXMMSEXT    9166 XXSAZ PL  93751   \n",
       "10      11 2017-01-01         11  UZZSMXSEE   USJZUSA     726 UMTXU ST  92129   \n",
       "11      12 2017-01-01  854773981  RSZXMZRSU  EZJAXJTZ  2561 RXJXU BLVD   9531   \n",
       "12      13 2017-01-01  283419783  EJAASJXXM  UZZSAZJR    4365 UMXZA LN  82369   \n",
       "13      14 2017-01-01  800705980  MUTAEUUZS  STAZJXRA    1683 RSEJM ST  66204   \n",
       "14      15 2017-01-01  654640127  SUXZRSUZT   UAJRRXM  4961 RTZJA BLVD  61344   \n",
       "15      16 2017-01-01  763049287  XAREMEUUU  SXXJSARX    6575 EXZXA RD  43912   \n",
       "16      17 2017-01-01  610654961  UJSRSMUEZ  SJATAXXX  4057 SRZAE BLVD  29576   \n",
       "17      18 2017-01-01  346374636  XRSSZZUXT  ETXZXJAJ    5719 UEZJT PL  51486   \n",
       "18      19 2017-01-01  722620451  UXJSUXJUJ   UUMRUSA    1198 XAZZR PL  93301   \n",
       "19      20 2017-01-01  892971652  XUTMSSREZ  UJEUUJXT   2350 EZTXX AVE  25166   \n",
       "20      21 2017-01-01  344025146  SJAXEZAMT   MERAUUU     3142 MZZE WY  14589   \n",
       "21      22 2017-01-01  624412170  RAJSJZUSZ  SSSEARET     3775 RUXE DR  21860   \n",
       "22      23 2017-01-01         23  ETXMUSZEM   UJMAMEU    3387 STRUM WY  45982   \n",
       "23      24 2017-01-01  240172205  RRSAZXXEJ  ESSJAZMA    8715 STRJX ST  94373   \n",
       "24      25 2017-01-01  425320780  SREZUJMJU  RXRRRTMX     626 STSRR ST  59453   \n",
       "\n",
       "         dob   homephone  fraud_label  \n",
       "0   19070626  1797504115            0  \n",
       "1   19340615  4164239415            1  \n",
       "2   19070626   216537580            0  \n",
       "3   19440430   132144161            0  \n",
       "4   19980315  6101082272            0  \n",
       "5   19480613  5742016319            0  \n",
       "6   19640318  7697396312            0  \n",
       "7   19190528  2727421586            0  \n",
       "8   19900314  5520652307            0  \n",
       "9   19750127  3749451123            0  \n",
       "10  19400126  3026547212            0  \n",
       "11  19471211  3896260651            0  \n",
       "12  19000122  5874359299            0  \n",
       "13  19400902  3903104222            0  \n",
       "14  19360829  1754954648            0  \n",
       "15  19991228  3915611901            0  \n",
       "16  20080401   516200670            0  \n",
       "17  19500110  9999999999            0  \n",
       "18  19901113   439009868            0  \n",
       "19  20060815  1938458945            0  \n",
       "20  19770328  6547182278            0  \n",
       "21  19870706  6485706942            0  \n",
       "22  19580830  5568704443            0  \n",
       "23  19770518   764218629            0  \n",
       "24  19381224  9070020107            0  "
      ]
     },
     "execution_count": 45,
     "metadata": {},
     "output_type": "execute_result"
    }
   ],
   "source": [
    "data.head(25)"
   ]
  },
  {
   "cell_type": "code",
   "execution_count": 46,
   "metadata": {},
   "outputs": [
    {
     "data": {
      "text/plain": [
       "<AxesSubplot:>"
      ]
     },
     "execution_count": 46,
     "metadata": {},
     "output_type": "execute_result"
    },
    {
     "data": {
      "image/png": "[encoded data removed]",
      "text/plain": [
       "<Figure size 432x288 with 1 Axes>"
      ]
     },
     "metadata": {},
     "output_type": "display_data"
    }
   ],
   "source": [
    "data['ssn'].value_counts().head(20).plot(kind='bar',logy=True)"
   ]
  },
  {
   "cell_type": "code",
   "execution_count": 47,
   "metadata": {},
   "outputs": [
    {
     "data": {
      "text/plain": [
       "100.0"
      ]
     },
     "execution_count": 47,
     "metadata": {},
     "output_type": "execute_result"
    }
   ],
   "source": [
    "len(data['firstname']) * 100 / numrecords"
   ]
  },
  {
   "cell_type": "code",
   "execution_count": 48,
   "metadata": {},
   "outputs": [
    {
     "data": {
      "text/plain": [
       "78136"
      ]
     },
     "execution_count": 48,
     "metadata": {},
     "output_type": "execute_result"
    }
   ],
   "source": [
    "len(data['firstname'].unique())"
   ]
  },
  {
   "cell_type": "code",
   "execution_count": 49,
   "metadata": {},
   "outputs": [
    {
     "data": {
      "text/plain": [
       "EAMSTRMT     12658\n",
       "TXEMXZZM     10297\n",
       "UXXJJZTUZ    10235\n",
       "UJSRSMUEZ     9994\n",
       "SREZUJMJU     9688\n",
       "             ...  \n",
       "TUSSMZJA         1\n",
       "SSAZJXSRM        1\n",
       "UATETTATJ        1\n",
       "UASJMZXZJ        1\n",
       "RUZUJJRMX        1\n",
       "Name: firstname, Length: 78136, dtype: int64"
      ]
     },
     "execution_count": 49,
     "metadata": {},
     "output_type": "execute_result"
    }
   ],
   "source": [
    "data['firstname'].value_counts()"
   ]
  },
  {
   "cell_type": "code",
   "execution_count": 50,
   "metadata": {},
   "outputs": [
    {
     "data": {
      "text/plain": [
       "<AxesSubplot:>"
      ]
     },
     "execution_count": 50,
     "metadata": {},
     "output_type": "execute_result"
    },
    {
     "data": {
      "image/png": "[encoded data removed]",
      "text/plain": [
       "<Figure size 432x288 with 1 Axes>"
      ]
     },
     "metadata": {},
     "output_type": "display_data"
    }
   ],
   "source": [
    "data['firstname'].value_counts().head(20).plot(kind='bar')"
   ]
  },
  {
   "cell_type": "code",
   "execution_count": 51,
   "metadata": {},
   "outputs": [
    {
     "data": {
      "text/plain": [
       "100.0"
      ]
     },
     "execution_count": 51,
     "metadata": {},
     "output_type": "execute_result"
    }
   ],
   "source": [
    "len(data['lastname']) * 100 / numrecords"
   ]
  },
  {
   "cell_type": "code",
   "execution_count": 52,
   "metadata": {},
   "outputs": [
    {
     "data": {
      "text/plain": [
       "177001"
      ]
     },
     "execution_count": 52,
     "metadata": {},
     "output_type": "execute_result"
    }
   ],
   "source": [
    "len(data['lastname'].unique())"
   ]
  },
  {
   "cell_type": "code",
   "execution_count": 53,
   "metadata": {},
   "outputs": [
    {
     "data": {
      "text/plain": [
       "ERJSAXA     8580\n",
       "UMXUUUSE    7156\n",
       "UMARRMA     6832\n",
       "MEAXJUX     5492\n",
       "XMERRR      5451\n",
       "            ... \n",
       "RMJZJRMJ       1\n",
       "SSUTSMUM       1\n",
       "EXASZEXS       1\n",
       "UERZXTTR       1\n",
       "RMJZURRS       1\n",
       "Name: lastname, Length: 177001, dtype: int64"
      ]
     },
     "execution_count": 53,
     "metadata": {},
     "output_type": "execute_result"
    }
   ],
   "source": [
    "data['lastname'].value_counts()"
   ]
  },
  {
   "cell_type": "code",
   "execution_count": 54,
   "metadata": {},
   "outputs": [
    {
     "data": {
      "text/plain": [
       "<AxesSubplot:>"
      ]
     },
     "execution_count": 54,
     "metadata": {},
     "output_type": "execute_result"
    },
    {
     "data": {
      "image/png": "[encoded data removed]",
      "text/plain": [
       "<Figure size 432x288 with 1 Axes>"
      ]
     },
     "metadata": {},
     "output_type": "display_data"
    }
   ],
   "source": [
    "data['lastname'].value_counts().head(20).plot(kind='bar')"
   ]
  },
  {
   "cell_type": "code",
   "execution_count": 55,
   "metadata": {},
   "outputs": [
    {
     "data": {
      "text/plain": [
       "100.0"
      ]
     },
     "execution_count": 55,
     "metadata": {},
     "output_type": "execute_result"
    }
   ],
   "source": [
    "len(data['address']) * 100 / numrecords"
   ]
  },
  {
   "cell_type": "code",
   "execution_count": 56,
   "metadata": {},
   "outputs": [
    {
     "data": {
      "text/plain": [
       "828774"
      ]
     },
     "execution_count": 56,
     "metadata": {},
     "output_type": "execute_result"
    }
   ],
   "source": [
    "len(data['address'].unique())"
   ]
  },
  {
   "cell_type": "code",
   "execution_count": 57,
   "metadata": {},
   "outputs": [
    {
     "data": {
      "text/plain": [
       "123 MAIN ST        1079\n",
       "1775 XJXE LN         97\n",
       "7433 RAEZA ST        80\n",
       "8911 MZSU DR         74\n",
       "4907 RRAAU DR        73\n",
       "                   ... \n",
       "1179 RATUS BLVD       1\n",
       "8006 SSRJM ST         1\n",
       "6327 MAXR ST          1\n",
       "4937 ESAMR LN         1\n",
       "3408 UZZAM WY         1\n",
       "Name: address, Length: 828774, dtype: int64"
      ]
     },
     "execution_count": 57,
     "metadata": {},
     "output_type": "execute_result"
    }
   ],
   "source": [
    "data['address'].value_counts()"
   ]
  },
  {
   "cell_type": "code",
   "execution_count": 58,
   "metadata": {},
   "outputs": [
    {
     "data": {
      "text/plain": [
       "<AxesSubplot:>"
      ]
     },
     "execution_count": 58,
     "metadata": {},
     "output_type": "execute_result"
    },
    {
     "data": {
      "image/png": "[encoded data removed]",
      "text/plain": [
       "<Figure size 432x288 with 1 Axes>"
      ]
     },
     "metadata": {},
     "output_type": "display_data"
    }
   ],
   "source": [
    "data['address'].value_counts().head(20).plot(kind='bar',logy=True)"
   ]
  },
  {
   "cell_type": "code",
   "execution_count": 59,
   "metadata": {},
   "outputs": [
    {
     "data": {
      "text/html": [
       "<div>\n",
       "<style scoped>\n",
       "    .dataframe tbody tr th:only-of-type {\n",
       "        vertical-align: middle;\n",
       "    }\n",
       "\n",
       "    .dataframe tbody tr th {\n",
       "        vertical-align: top;\n",
       "    }\n",
       "\n",
       "    .dataframe thead th {\n",
       "        text-align: right;\n",
       "    }\n",
       "</style>\n",
       "<table border=\"1\" class=\"dataframe\">\n",
       "  <thead>\n",
       "    <tr style=\"text-align: right;\">\n",
       "      <th></th>\n",
       "      <th>record</th>\n",
       "      <th>date</th>\n",
       "      <th>ssn</th>\n",
       "      <th>firstname</th>\n",
       "      <th>lastname</th>\n",
       "      <th>address</th>\n",
       "      <th>zip5</th>\n",
       "      <th>dob</th>\n",
       "      <th>homephone</th>\n",
       "      <th>fraud_label</th>\n",
       "    </tr>\n",
       "  </thead>\n",
       "  <tbody>\n",
       "    <tr>\n",
       "      <th>1247</th>\n",
       "      <td>1248</td>\n",
       "      <td>2017-01-01</td>\n",
       "      <td>904524264</td>\n",
       "      <td>UJSRSMUEZ</td>\n",
       "      <td>EAXAXAXA</td>\n",
       "      <td>123 MAIN ST</td>\n",
       "      <td>68138</td>\n",
       "      <td>19241031</td>\n",
       "      <td>8135264540</td>\n",
       "      <td>0</td>\n",
       "    </tr>\n",
       "    <tr>\n",
       "      <th>2191</th>\n",
       "      <td>2192</td>\n",
       "      <td>2017-01-01</td>\n",
       "      <td>345413970</td>\n",
       "      <td>XXSMUSEJT</td>\n",
       "      <td>SRRAXESJ</td>\n",
       "      <td>123 MAIN ST</td>\n",
       "      <td>68138</td>\n",
       "      <td>19300526</td>\n",
       "      <td>94097353</td>\n",
       "      <td>0</td>\n",
       "    </tr>\n",
       "    <tr>\n",
       "      <th>2529</th>\n",
       "      <td>2530</td>\n",
       "      <td>2017-01-01</td>\n",
       "      <td>821839005</td>\n",
       "      <td>UXZUMTRTR</td>\n",
       "      <td>EARTMRJS</td>\n",
       "      <td>123 MAIN ST</td>\n",
       "      <td>68138</td>\n",
       "      <td>19621101</td>\n",
       "      <td>7715547340</td>\n",
       "      <td>0</td>\n",
       "    </tr>\n",
       "    <tr>\n",
       "      <th>3434</th>\n",
       "      <td>3435</td>\n",
       "      <td>2017-01-02</td>\n",
       "      <td>24205988</td>\n",
       "      <td>SXTUZZXAS</td>\n",
       "      <td>UJJAJMM</td>\n",
       "      <td>123 MAIN ST</td>\n",
       "      <td>68138</td>\n",
       "      <td>19640428</td>\n",
       "      <td>8788942828</td>\n",
       "      <td>0</td>\n",
       "    </tr>\n",
       "    <tr>\n",
       "      <th>3750</th>\n",
       "      <td>3751</td>\n",
       "      <td>2017-01-02</td>\n",
       "      <td>623763056</td>\n",
       "      <td>SEZESJMSR</td>\n",
       "      <td>UZJEUZMT</td>\n",
       "      <td>123 MAIN ST</td>\n",
       "      <td>68138</td>\n",
       "      <td>19731107</td>\n",
       "      <td>974228226</td>\n",
       "      <td>0</td>\n",
       "    </tr>\n",
       "    <tr>\n",
       "      <th>4715</th>\n",
       "      <td>4716</td>\n",
       "      <td>2017-01-02</td>\n",
       "      <td>686787130</td>\n",
       "      <td>SXXSZJMM</td>\n",
       "      <td>ARRZTAA</td>\n",
       "      <td>123 MAIN ST</td>\n",
       "      <td>68138</td>\n",
       "      <td>19810323</td>\n",
       "      <td>1839236819</td>\n",
       "      <td>1</td>\n",
       "    </tr>\n",
       "    <tr>\n",
       "      <th>5353</th>\n",
       "      <td>5354</td>\n",
       "      <td>2017-01-02</td>\n",
       "      <td>932938215</td>\n",
       "      <td>UXRJESTM</td>\n",
       "      <td>EETAEAR</td>\n",
       "      <td>123 MAIN ST</td>\n",
       "      <td>68138</td>\n",
       "      <td>19980513</td>\n",
       "      <td>5441682419</td>\n",
       "      <td>0</td>\n",
       "    </tr>\n",
       "    <tr>\n",
       "      <th>7299</th>\n",
       "      <td>7300</td>\n",
       "      <td>2017-01-03</td>\n",
       "      <td>417080344</td>\n",
       "      <td>SJETUJAAZ</td>\n",
       "      <td>REMJTREU</td>\n",
       "      <td>123 MAIN ST</td>\n",
       "      <td>92821</td>\n",
       "      <td>19340914</td>\n",
       "      <td>7507186577</td>\n",
       "      <td>0</td>\n",
       "    </tr>\n",
       "    <tr>\n",
       "      <th>8512</th>\n",
       "      <td>8513</td>\n",
       "      <td>2017-01-04</td>\n",
       "      <td>477797652</td>\n",
       "      <td>EAMSTRMT</td>\n",
       "      <td>UTXXZZET</td>\n",
       "      <td>123 MAIN ST</td>\n",
       "      <td>68138</td>\n",
       "      <td>19190519</td>\n",
       "      <td>5922864904</td>\n",
       "      <td>0</td>\n",
       "    </tr>\n",
       "    <tr>\n",
       "      <th>8750</th>\n",
       "      <td>8751</td>\n",
       "      <td>2017-01-04</td>\n",
       "      <td>6367698</td>\n",
       "      <td>XUERJXSTU</td>\n",
       "      <td>EERMEXAE</td>\n",
       "      <td>123 MAIN ST</td>\n",
       "      <td>42035</td>\n",
       "      <td>19821127</td>\n",
       "      <td>6442565981</td>\n",
       "      <td>0</td>\n",
       "    </tr>\n",
       "    <tr>\n",
       "      <th>9051</th>\n",
       "      <td>9052</td>\n",
       "      <td>2017-01-04</td>\n",
       "      <td>268297199</td>\n",
       "      <td>XUERJXSTU</td>\n",
       "      <td>RUSXSMTS</td>\n",
       "      <td>123 MAIN ST</td>\n",
       "      <td>55457</td>\n",
       "      <td>19430413</td>\n",
       "      <td>4330604659</td>\n",
       "      <td>0</td>\n",
       "    </tr>\n",
       "    <tr>\n",
       "      <th>9147</th>\n",
       "      <td>9148</td>\n",
       "      <td>2017-01-04</td>\n",
       "      <td>875566268</td>\n",
       "      <td>MJJJZUZTE</td>\n",
       "      <td>AJUZMTM</td>\n",
       "      <td>123 MAIN ST</td>\n",
       "      <td>68138</td>\n",
       "      <td>19011214</td>\n",
       "      <td>9999999999</td>\n",
       "      <td>0</td>\n",
       "    </tr>\n",
       "    <tr>\n",
       "      <th>10043</th>\n",
       "      <td>10044</td>\n",
       "      <td>2017-01-04</td>\n",
       "      <td>828973613</td>\n",
       "      <td>USSZMRERM</td>\n",
       "      <td>TSUEEET</td>\n",
       "      <td>123 MAIN ST</td>\n",
       "      <td>68138</td>\n",
       "      <td>19040413</td>\n",
       "      <td>1886028283</td>\n",
       "      <td>0</td>\n",
       "    </tr>\n",
       "    <tr>\n",
       "      <th>10588</th>\n",
       "      <td>10589</td>\n",
       "      <td>2017-01-04</td>\n",
       "      <td>10589</td>\n",
       "      <td>RATREMERM</td>\n",
       "      <td>RJURSTXJ</td>\n",
       "      <td>123 MAIN ST</td>\n",
       "      <td>68138</td>\n",
       "      <td>20020214</td>\n",
       "      <td>9999999999</td>\n",
       "      <td>0</td>\n",
       "    </tr>\n",
       "    <tr>\n",
       "      <th>10701</th>\n",
       "      <td>10702</td>\n",
       "      <td>2017-01-04</td>\n",
       "      <td>691187893</td>\n",
       "      <td>SRRZEXETU</td>\n",
       "      <td>UUTJTJM</td>\n",
       "      <td>123 MAIN ST</td>\n",
       "      <td>68138</td>\n",
       "      <td>19030505</td>\n",
       "      <td>3092099983</td>\n",
       "      <td>0</td>\n",
       "    </tr>\n",
       "    <tr>\n",
       "      <th>10802</th>\n",
       "      <td>10803</td>\n",
       "      <td>2017-01-04</td>\n",
       "      <td>647675920</td>\n",
       "      <td>SJUXSATRM</td>\n",
       "      <td>XJMJMRA</td>\n",
       "      <td>123 MAIN ST</td>\n",
       "      <td>66279</td>\n",
       "      <td>19000124</td>\n",
       "      <td>1932109910</td>\n",
       "      <td>0</td>\n",
       "    </tr>\n",
       "    <tr>\n",
       "      <th>13663</th>\n",
       "      <td>13664</td>\n",
       "      <td>2017-01-05</td>\n",
       "      <td>786557432</td>\n",
       "      <td>XRUURASXU</td>\n",
       "      <td>SAZMRUAA</td>\n",
       "      <td>123 MAIN ST</td>\n",
       "      <td>49706</td>\n",
       "      <td>20141210</td>\n",
       "      <td>7078543383</td>\n",
       "      <td>0</td>\n",
       "    </tr>\n",
       "    <tr>\n",
       "      <th>14082</th>\n",
       "      <td>14083</td>\n",
       "      <td>2017-01-06</td>\n",
       "      <td>426706700</td>\n",
       "      <td>XTTTEXZA</td>\n",
       "      <td>UTAMRJSA</td>\n",
       "      <td>123 MAIN ST</td>\n",
       "      <td>68138</td>\n",
       "      <td>19461231</td>\n",
       "      <td>2890618122</td>\n",
       "      <td>0</td>\n",
       "    </tr>\n",
       "    <tr>\n",
       "      <th>14257</th>\n",
       "      <td>14258</td>\n",
       "      <td>2017-01-06</td>\n",
       "      <td>738979458</td>\n",
       "      <td>SRTXJZSXM</td>\n",
       "      <td>EERMERJ</td>\n",
       "      <td>123 MAIN ST</td>\n",
       "      <td>97302</td>\n",
       "      <td>20001128</td>\n",
       "      <td>2232057333</td>\n",
       "      <td>0</td>\n",
       "    </tr>\n",
       "    <tr>\n",
       "      <th>14789</th>\n",
       "      <td>14790</td>\n",
       "      <td>2017-01-06</td>\n",
       "      <td>746042136</td>\n",
       "      <td>STJZXXMET</td>\n",
       "      <td>RJSTUESS</td>\n",
       "      <td>123 MAIN ST</td>\n",
       "      <td>68138</td>\n",
       "      <td>20110806</td>\n",
       "      <td>8658354142</td>\n",
       "      <td>0</td>\n",
       "    </tr>\n",
       "  </tbody>\n",
       "</table>\n",
       "</div>"
      ],
      "text/plain": [
       "       record       date        ssn  firstname  lastname      address   zip5  \\\n",
       "1247     1248 2017-01-01  904524264  UJSRSMUEZ  EAXAXAXA  123 MAIN ST  68138   \n",
       "2191     2192 2017-01-01  345413970  XXSMUSEJT  SRRAXESJ  123 MAIN ST  68138   \n",
       "2529     2530 2017-01-01  821839005  UXZUMTRTR  EARTMRJS  123 MAIN ST  68138   \n",
       "3434     3435 2017-01-02   24205988  SXTUZZXAS   UJJAJMM  123 MAIN ST  68138   \n",
       "3750     3751 2017-01-02  623763056  SEZESJMSR  UZJEUZMT  123 MAIN ST  68138   \n",
       "4715     4716 2017-01-02  686787130   SXXSZJMM   ARRZTAA  123 MAIN ST  68138   \n",
       "5353     5354 2017-01-02  932938215   UXRJESTM   EETAEAR  123 MAIN ST  68138   \n",
       "7299     7300 2017-01-03  417080344  SJETUJAAZ  REMJTREU  123 MAIN ST  92821   \n",
       "8512     8513 2017-01-04  477797652   EAMSTRMT  UTXXZZET  123 MAIN ST  68138   \n",
       "8750     8751 2017-01-04    6367698  XUERJXSTU  EERMEXAE  123 MAIN ST  42035   \n",
       "9051     9052 2017-01-04  268297199  XUERJXSTU  RUSXSMTS  123 MAIN ST  55457   \n",
       "9147     9148 2017-01-04  875566268  MJJJZUZTE   AJUZMTM  123 MAIN ST  68138   \n",
       "10043   10044 2017-01-04  828973613  USSZMRERM   TSUEEET  123 MAIN ST  68138   \n",
       "10588   10589 2017-01-04      10589  RATREMERM  RJURSTXJ  123 MAIN ST  68138   \n",
       "10701   10702 2017-01-04  691187893  SRRZEXETU   UUTJTJM  123 MAIN ST  68138   \n",
       "10802   10803 2017-01-04  647675920  SJUXSATRM   XJMJMRA  123 MAIN ST  66279   \n",
       "13663   13664 2017-01-05  786557432  XRUURASXU  SAZMRUAA  123 MAIN ST  49706   \n",
       "14082   14083 2017-01-06  426706700   XTTTEXZA  UTAMRJSA  123 MAIN ST  68138   \n",
       "14257   14258 2017-01-06  738979458  SRTXJZSXM   EERMERJ  123 MAIN ST  97302   \n",
       "14789   14790 2017-01-06  746042136  STJZXXMET  RJSTUESS  123 MAIN ST  68138   \n",
       "\n",
       "            dob   homephone  fraud_label  \n",
       "1247   19241031  8135264540            0  \n",
       "2191   19300526    94097353            0  \n",
       "2529   19621101  7715547340            0  \n",
       "3434   19640428  8788942828            0  \n",
       "3750   19731107   974228226            0  \n",
       "4715   19810323  1839236819            1  \n",
       "5353   19980513  5441682419            0  \n",
       "7299   19340914  7507186577            0  \n",
       "8512   19190519  5922864904            0  \n",
       "8750   19821127  6442565981            0  \n",
       "9051   19430413  4330604659            0  \n",
       "9147   19011214  9999999999            0  \n",
       "10043  19040413  1886028283            0  \n",
       "10588  20020214  9999999999            0  \n",
       "10701  19030505  3092099983            0  \n",
       "10802  19000124  1932109910            0  \n",
       "13663  20141210  7078543383            0  \n",
       "14082  19461231  2890618122            0  \n",
       "14257  20001128  2232057333            0  \n",
       "14789  20110806  8658354142            0  "
      ]
     },
     "execution_count": 59,
     "metadata": {},
     "output_type": "execute_result"
    }
   ],
   "source": [
    "data[data['address'] == '123 MAIN ST'].head(20)"
   ]
  },
  {
   "cell_type": "code",
   "execution_count": 60,
   "metadata": {},
   "outputs": [
    {
     "data": {
      "text/plain": [
       "100.0"
      ]
     },
     "execution_count": 60,
     "metadata": {},
     "output_type": "execute_result"
    }
   ],
   "source": [
    "len(data['zip5']) * 100 / numrecords"
   ]
  },
  {
   "cell_type": "code",
   "execution_count": 61,
   "metadata": {},
   "outputs": [
    {
     "data": {
      "text/plain": [
       "26370"
      ]
     },
     "execution_count": 61,
     "metadata": {},
     "output_type": "execute_result"
    }
   ],
   "source": [
    "len(data['zip5'].unique())"
   ]
  },
  {
   "cell_type": "code",
   "execution_count": 62,
   "metadata": {
    "scrolled": false
   },
   "outputs": [
    {
     "data": {
      "text/plain": [
       "68138    823\n",
       "90042    514\n",
       "89835    489\n",
       "35227    478\n",
       "14931    459\n",
       "        ... \n",
       "1599       1\n",
       "69474      1\n",
       "51017      1\n",
       "25995      1\n",
       "21226      1\n",
       "Name: zip5, Length: 26370, dtype: int64"
      ]
     },
     "execution_count": 62,
     "metadata": {},
     "output_type": "execute_result"
    }
   ],
   "source": [
    "data['zip5'].value_counts()"
   ]
  },
  {
   "cell_type": "code",
   "execution_count": 63,
   "metadata": {
    "scrolled": false
   },
   "outputs": [
    {
     "data": {
      "text/plain": [
       "<AxesSubplot:>"
      ]
     },
     "execution_count": 63,
     "metadata": {},
     "output_type": "execute_result"
    },
    {
     "data": {
      "image/png": "[encoded data removed]",
      "text/plain": [
       "<Figure size 432x288 with 1 Axes>"
      ]
     },
     "metadata": {},
     "output_type": "display_data"
    }
   ],
   "source": [
    "data['zip5'].value_counts().head(20).plot(kind='bar',logy=True)"
   ]
  },
  {
   "cell_type": "code",
   "execution_count": 64,
   "metadata": {},
   "outputs": [],
   "source": [
    "data['fulladdress'] = data['address'] + ' ' + data['zip5'].astype('str')\n",
    "# data = data.drop(columns = ['zip5', 'address'])"
   ]
  },
  {
   "cell_type": "code",
   "execution_count": 65,
   "metadata": {},
   "outputs": [
    {
     "data": {
      "text/plain": [
       "<AxesSubplot:>"
      ]
     },
     "execution_count": 65,
     "metadata": {},
     "output_type": "execute_result"
    },
    {
     "data": {
      "image/png": "[encoded data removed]",
      "text/plain": [
       "<Figure size 432x288 with 1 Axes>"
      ]
     },
     "metadata": {},
     "output_type": "display_data"
    }
   ],
   "source": [
    "data['fulladdress'].value_counts().head(20).plot(kind='bar',logy=True)"
   ]
  },
  {
   "cell_type": "code",
   "execution_count": 66,
   "metadata": {},
   "outputs": [
    {
     "name": "stdout",
     "output_type": "stream",
     "text": [
      "['123 MAIN ST', '123 MAIN ST', '123 MAIN ST']\n"
     ]
    }
   ],
   "source": [
    "old_address = [data.iloc[1247]['address'],data.iloc[2191]['address'],data.iloc[2529]['address']]\n",
    "print(old_address)"
   ]
  },
  {
   "cell_type": "code",
   "execution_count": 67,
   "metadata": {},
   "outputs": [
    {
     "data": {
      "text/plain": [
       "1079"
      ]
     },
     "execution_count": 67,
     "metadata": {},
     "output_type": "execute_result"
    }
   ],
   "source": [
    "len(data[data['address'] == '123 MAIN ST'])"
   ]
  },
  {
   "cell_type": "code",
   "execution_count": 68,
   "metadata": {
    "scrolled": true
   },
   "outputs": [],
   "source": [
    "data.loc[data['address'] == '123 MAIN ST', 'address'] = data.loc[data['address'] == '123 MAIN ST', 'record'].astype('str')"
   ]
  },
  {
   "cell_type": "code",
   "execution_count": 69,
   "metadata": {},
   "outputs": [
    {
     "data": {
      "text/plain": [
       "0"
      ]
     },
     "execution_count": 69,
     "metadata": {},
     "output_type": "execute_result"
    }
   ],
   "source": [
    "len(data[data['address'] == '123 MAIN ST'])"
   ]
  },
  {
   "cell_type": "code",
   "execution_count": 70,
   "metadata": {
    "scrolled": true
   },
   "outputs": [
    {
     "name": "stdout",
     "output_type": "stream",
     "text": [
      "['1248', '2192', '2530']\n"
     ]
    }
   ],
   "source": [
    "new_address = [data.iloc[1247]['address'],data.iloc[2191]['address'],data.iloc[2529]['address']]\n",
    "print(new_address)"
   ]
  },
  {
   "cell_type": "code",
   "execution_count": 71,
   "metadata": {},
   "outputs": [],
   "source": [
    "data['fulladdress'] = data['address'] + ' ' + data['zip5'].astype('str')\n",
    "# data = data.drop(columns = ['zip5', 'address'])"
   ]
  },
  {
   "cell_type": "code",
   "execution_count": 72,
   "metadata": {},
   "outputs": [
    {
     "data": {
      "text/plain": [
       "<AxesSubplot:>"
      ]
     },
     "execution_count": 72,
     "metadata": {},
     "output_type": "execute_result"
    },
    {
     "data": {
      "image/png": "[encoded data removed]",
      "text/plain": [
       "<Figure size 432x288 with 1 Axes>"
      ]
     },
     "metadata": {},
     "output_type": "display_data"
    }
   ],
   "source": [
    "data['fulladdress'].value_counts().head(20).plot(kind='bar',logy=True)"
   ]
  },
  {
   "cell_type": "code",
   "execution_count": 73,
   "metadata": {},
   "outputs": [
    {
     "data": {
      "text/plain": [
       "100.0"
      ]
     },
     "execution_count": 73,
     "metadata": {},
     "output_type": "execute_result"
    }
   ],
   "source": [
    "len(data['dob']) * 100 / numrecords"
   ]
  },
  {
   "cell_type": "code",
   "execution_count": 74,
   "metadata": {},
   "outputs": [
    {
     "data": {
      "text/plain": [
       "42673"
      ]
     },
     "execution_count": 74,
     "metadata": {},
     "output_type": "execute_result"
    }
   ],
   "source": [
    "len(data['dob'].unique())"
   ]
  },
  {
   "cell_type": "code",
   "execution_count": 75,
   "metadata": {},
   "outputs": [
    {
     "data": {
      "text/plain": [
       "19070626    126568\n",
       "19640318      4818\n",
       "19760625      3723\n",
       "19880628      1404\n",
       "19740216       980\n",
       "             ...  \n",
       "19280730         5\n",
       "19860313         5\n",
       "19190223         5\n",
       "19441127         5\n",
       "19960904         5\n",
       "Name: dob, Length: 42673, dtype: int64"
      ]
     },
     "execution_count": 75,
     "metadata": {},
     "output_type": "execute_result"
    }
   ],
   "source": [
    "data['dob'].value_counts()"
   ]
  },
  {
   "cell_type": "code",
   "execution_count": 76,
   "metadata": {},
   "outputs": [
    {
     "data": {
      "text/plain": [
       "<AxesSubplot:>"
      ]
     },
     "execution_count": 76,
     "metadata": {},
     "output_type": "execute_result"
    },
    {
     "data": {
      "image/png": "[encoded data removed]",
      "text/plain": [
       "<Figure size 432x288 with 1 Axes>"
      ]
     },
     "metadata": {},
     "output_type": "display_data"
    }
   ],
   "source": [
    "data['dob'].value_counts().head(20).plot(kind='bar',logy=True)"
   ]
  },
  {
   "cell_type": "code",
   "execution_count": 77,
   "metadata": {},
   "outputs": [],
   "source": [
    "data.loc[data['dob'] == 19070626, 'dob'] = data.loc[data['dob'] == 19070626, 'record']"
   ]
  },
  {
   "cell_type": "code",
   "execution_count": 78,
   "metadata": {},
   "outputs": [
    {
     "data": {
      "text/plain": [
       "<AxesSubplot:>"
      ]
     },
     "execution_count": 78,
     "metadata": {},
     "output_type": "execute_result"
    },
    {
     "data": {
      "image/png": "[encoded data removed]",
      "text/plain": [
       "<Figure size 432x288 with 1 Axes>"
      ]
     },
     "metadata": {},
     "output_type": "display_data"
    }
   ],
   "source": [
    "data['dob'].value_counts().head(20).plot(kind='bar',logy=True)"
   ]
  },
  {
   "cell_type": "code",
   "execution_count": 79,
   "metadata": {},
   "outputs": [
    {
     "data": {
      "text/plain": [
       "100.0"
      ]
     },
     "execution_count": 79,
     "metadata": {},
     "output_type": "execute_result"
    }
   ],
   "source": [
    "len(data['homephone']) * 100 / numrecords"
   ]
  },
  {
   "cell_type": "code",
   "execution_count": 80,
   "metadata": {},
   "outputs": [
    {
     "data": {
      "text/plain": [
       "28244"
      ]
     },
     "execution_count": 80,
     "metadata": {},
     "output_type": "execute_result"
    }
   ],
   "source": [
    "len(data['homephone'].unique())"
   ]
  },
  {
   "cell_type": "code",
   "execution_count": 81,
   "metadata": {},
   "outputs": [
    {
     "data": {
      "text/plain": [
       "9999999999    78512\n",
       "6384782007      466\n",
       "6035129044      360\n",
       "2113738531      331\n",
       "4024680535      198\n",
       "              ...  \n",
       "3450484388        1\n",
       "5376503138        1\n",
       "7106175831        1\n",
       "5010200060        1\n",
       "6271618925        1\n",
       "Name: homephone, Length: 28244, dtype: int64"
      ]
     },
     "execution_count": 81,
     "metadata": {},
     "output_type": "execute_result"
    }
   ],
   "source": [
    "data['homephone'].value_counts()"
   ]
  },
  {
   "cell_type": "code",
   "execution_count": 82,
   "metadata": {},
   "outputs": [
    {
     "data": {
      "text/plain": [
       "<AxesSubplot:>"
      ]
     },
     "execution_count": 82,
     "metadata": {},
     "output_type": "execute_result"
    },
    {
     "data": {
      "image/png": "[encoded data removed]",
      "text/plain": [
       "<Figure size 432x288 with 1 Axes>"
      ]
     },
     "metadata": {},
     "output_type": "display_data"
    }
   ],
   "source": [
    "data['homephone'].value_counts().head(20).plot(kind='bar',logy=True)"
   ]
  },
  {
   "cell_type": "code",
   "execution_count": 83,
   "metadata": {},
   "outputs": [
    {
     "data": {
      "text/html": [
       "<div>\n",
       "<style scoped>\n",
       "    .dataframe tbody tr th:only-of-type {\n",
       "        vertical-align: middle;\n",
       "    }\n",
       "\n",
       "    .dataframe tbody tr th {\n",
       "        vertical-align: top;\n",
       "    }\n",
       "\n",
       "    .dataframe thead th {\n",
       "        text-align: right;\n",
       "    }\n",
       "</style>\n",
       "<table border=\"1\" class=\"dataframe\">\n",
       "  <thead>\n",
       "    <tr style=\"text-align: right;\">\n",
       "      <th></th>\n",
       "      <th>record</th>\n",
       "      <th>date</th>\n",
       "      <th>ssn</th>\n",
       "      <th>firstname</th>\n",
       "      <th>lastname</th>\n",
       "      <th>address</th>\n",
       "      <th>zip5</th>\n",
       "      <th>dob</th>\n",
       "      <th>homephone</th>\n",
       "      <th>fraud_label</th>\n",
       "      <th>fulladdress</th>\n",
       "    </tr>\n",
       "  </thead>\n",
       "  <tbody>\n",
       "    <tr>\n",
       "      <th>17</th>\n",
       "      <td>18</td>\n",
       "      <td>2017-01-01</td>\n",
       "      <td>346374636</td>\n",
       "      <td>XRSSZZUXT</td>\n",
       "      <td>ETXZXJAJ</td>\n",
       "      <td>5719 UEZJT PL</td>\n",
       "      <td>51486</td>\n",
       "      <td>19500110</td>\n",
       "      <td>9999999999</td>\n",
       "      <td>0</td>\n",
       "      <td>5719 UEZJT PL 51486</td>\n",
       "    </tr>\n",
       "    <tr>\n",
       "      <th>26</th>\n",
       "      <td>27</td>\n",
       "      <td>2017-01-01</td>\n",
       "      <td>735495403</td>\n",
       "      <td>EMSSTSXUA</td>\n",
       "      <td>STZRUXZM</td>\n",
       "      <td>9323 STRMS PL</td>\n",
       "      <td>51395</td>\n",
       "      <td>19881111</td>\n",
       "      <td>9999999999</td>\n",
       "      <td>0</td>\n",
       "      <td>9323 STRMS PL 51395</td>\n",
       "    </tr>\n",
       "    <tr>\n",
       "      <th>60</th>\n",
       "      <td>61</td>\n",
       "      <td>2017-01-01</td>\n",
       "      <td>780136117</td>\n",
       "      <td>UZTZEETU</td>\n",
       "      <td>ARUZTZM</td>\n",
       "      <td>5317 UTXME ST</td>\n",
       "      <td>37840</td>\n",
       "      <td>19731129</td>\n",
       "      <td>9999999999</td>\n",
       "      <td>0</td>\n",
       "      <td>5317 UTXME ST 37840</td>\n",
       "    </tr>\n",
       "    <tr>\n",
       "      <th>64</th>\n",
       "      <td>65</td>\n",
       "      <td>2017-01-01</td>\n",
       "      <td>65</td>\n",
       "      <td>STUMMAMTS</td>\n",
       "      <td>SSJXTUJM</td>\n",
       "      <td>6393 UEJEA LN</td>\n",
       "      <td>41640</td>\n",
       "      <td>65</td>\n",
       "      <td>9999999999</td>\n",
       "      <td>0</td>\n",
       "      <td>6393 UEJEA LN 41640</td>\n",
       "    </tr>\n",
       "    <tr>\n",
       "      <th>145</th>\n",
       "      <td>146</td>\n",
       "      <td>2017-01-01</td>\n",
       "      <td>671506143</td>\n",
       "      <td>TXEMXZZM</td>\n",
       "      <td>SRTERSRA</td>\n",
       "      <td>5795 UMUTM BLVD</td>\n",
       "      <td>45077</td>\n",
       "      <td>19030913</td>\n",
       "      <td>9999999999</td>\n",
       "      <td>0</td>\n",
       "      <td>5795 UMUTM BLVD 45077</td>\n",
       "    </tr>\n",
       "    <tr>\n",
       "      <th>149</th>\n",
       "      <td>150</td>\n",
       "      <td>2017-01-01</td>\n",
       "      <td>149112205</td>\n",
       "      <td>EZTERXZRA</td>\n",
       "      <td>EERMAXJU</td>\n",
       "      <td>2249 XXAU DR</td>\n",
       "      <td>27375</td>\n",
       "      <td>19841206</td>\n",
       "      <td>9999999999</td>\n",
       "      <td>0</td>\n",
       "      <td>2249 XXAU DR 27375</td>\n",
       "    </tr>\n",
       "    <tr>\n",
       "      <th>178</th>\n",
       "      <td>179</td>\n",
       "      <td>2017-01-01</td>\n",
       "      <td>507916615</td>\n",
       "      <td>EUEJUURAR</td>\n",
       "      <td>XUSMXRU</td>\n",
       "      <td>8314 XXMX DR</td>\n",
       "      <td>398</td>\n",
       "      <td>19720416</td>\n",
       "      <td>9999999999</td>\n",
       "      <td>0</td>\n",
       "      <td>8314 XXMX DR 398</td>\n",
       "    </tr>\n",
       "    <tr>\n",
       "      <th>179</th>\n",
       "      <td>180</td>\n",
       "      <td>2017-01-01</td>\n",
       "      <td>106080337</td>\n",
       "      <td>SRARXRMRM</td>\n",
       "      <td>UTJMRJUX</td>\n",
       "      <td>8413 URUEU WY</td>\n",
       "      <td>15746</td>\n",
       "      <td>180</td>\n",
       "      <td>9999999999</td>\n",
       "      <td>0</td>\n",
       "      <td>8413 URUEU WY 15746</td>\n",
       "    </tr>\n",
       "    <tr>\n",
       "      <th>180</th>\n",
       "      <td>181</td>\n",
       "      <td>2017-01-01</td>\n",
       "      <td>291680381</td>\n",
       "      <td>MUSXJTSSX</td>\n",
       "      <td>EXAAJUT</td>\n",
       "      <td>9762 SXJXM LN</td>\n",
       "      <td>41694</td>\n",
       "      <td>19620504</td>\n",
       "      <td>9999999999</td>\n",
       "      <td>0</td>\n",
       "      <td>9762 SXJXM LN 41694</td>\n",
       "    </tr>\n",
       "    <tr>\n",
       "      <th>200</th>\n",
       "      <td>201</td>\n",
       "      <td>2017-01-01</td>\n",
       "      <td>13382014</td>\n",
       "      <td>EAMSTRMT</td>\n",
       "      <td>RURSXSXX</td>\n",
       "      <td>372 SXTEA DR</td>\n",
       "      <td>42716</td>\n",
       "      <td>201</td>\n",
       "      <td>9999999999</td>\n",
       "      <td>0</td>\n",
       "      <td>372 SXTEA DR 42716</td>\n",
       "    </tr>\n",
       "  </tbody>\n",
       "</table>\n",
       "</div>"
      ],
      "text/plain": [
       "     record       date        ssn  firstname  lastname          address  \\\n",
       "17       18 2017-01-01  346374636  XRSSZZUXT  ETXZXJAJ    5719 UEZJT PL   \n",
       "26       27 2017-01-01  735495403  EMSSTSXUA  STZRUXZM    9323 STRMS PL   \n",
       "60       61 2017-01-01  780136117   UZTZEETU   ARUZTZM    5317 UTXME ST   \n",
       "64       65 2017-01-01         65  STUMMAMTS  SSJXTUJM    6393 UEJEA LN   \n",
       "145     146 2017-01-01  671506143   TXEMXZZM  SRTERSRA  5795 UMUTM BLVD   \n",
       "149     150 2017-01-01  149112205  EZTERXZRA  EERMAXJU     2249 XXAU DR   \n",
       "178     179 2017-01-01  507916615  EUEJUURAR   XUSMXRU     8314 XXMX DR   \n",
       "179     180 2017-01-01  106080337  SRARXRMRM  UTJMRJUX    8413 URUEU WY   \n",
       "180     181 2017-01-01  291680381  MUSXJTSSX   EXAAJUT    9762 SXJXM LN   \n",
       "200     201 2017-01-01   13382014   EAMSTRMT  RURSXSXX     372 SXTEA DR   \n",
       "\n",
       "      zip5       dob   homephone  fraud_label            fulladdress  \n",
       "17   51486  19500110  9999999999            0    5719 UEZJT PL 51486  \n",
       "26   51395  19881111  9999999999            0    9323 STRMS PL 51395  \n",
       "60   37840  19731129  9999999999            0    5317 UTXME ST 37840  \n",
       "64   41640        65  9999999999            0    6393 UEJEA LN 41640  \n",
       "145  45077  19030913  9999999999            0  5795 UMUTM BLVD 45077  \n",
       "149  27375  19841206  9999999999            0     2249 XXAU DR 27375  \n",
       "178    398  19720416  9999999999            0       8314 XXMX DR 398  \n",
       "179  15746       180  9999999999            0    8413 URUEU WY 15746  \n",
       "180  41694  19620504  9999999999            0    9762 SXJXM LN 41694  \n",
       "200  42716       201  9999999999            0     372 SXTEA DR 42716  "
      ]
     },
     "execution_count": 83,
     "metadata": {},
     "output_type": "execute_result"
    }
   ],
   "source": [
    "data[data['homephone'] == 9999999999].head(10)"
   ]
  },
  {
   "cell_type": "code",
   "execution_count": 84,
   "metadata": {},
   "outputs": [
    {
     "data": {
      "text/plain": [
       "78512"
      ]
     },
     "execution_count": 84,
     "metadata": {},
     "output_type": "execute_result"
    }
   ],
   "source": [
    "len(data[data['homephone'] == 9999999999])"
   ]
  },
  {
   "cell_type": "code",
   "execution_count": 85,
   "metadata": {
    "scrolled": true
   },
   "outputs": [],
   "source": [
    "data.loc[data['homephone'] == 9999999999, 'homephone'] = data.loc[data['homephone'] == 9999999999, 'record']"
   ]
  },
  {
   "cell_type": "code",
   "execution_count": 86,
   "metadata": {},
   "outputs": [
    {
     "data": {
      "text/plain": [
       "0"
      ]
     },
     "execution_count": 86,
     "metadata": {},
     "output_type": "execute_result"
    }
   ],
   "source": [
    "len(data[data['homephone'] == 9999999999])"
   ]
  },
  {
   "cell_type": "code",
   "execution_count": 87,
   "metadata": {
    "scrolled": false
   },
   "outputs": [
    {
     "data": {
      "text/html": [
       "<div>\n",
       "<style scoped>\n",
       "    .dataframe tbody tr th:only-of-type {\n",
       "        vertical-align: middle;\n",
       "    }\n",
       "\n",
       "    .dataframe tbody tr th {\n",
       "        vertical-align: top;\n",
       "    }\n",
       "\n",
       "    .dataframe thead th {\n",
       "        text-align: right;\n",
       "    }\n",
       "</style>\n",
       "<table border=\"1\" class=\"dataframe\">\n",
       "  <thead>\n",
       "    <tr style=\"text-align: right;\">\n",
       "      <th></th>\n",
       "      <th>record</th>\n",
       "      <th>date</th>\n",
       "      <th>ssn</th>\n",
       "      <th>firstname</th>\n",
       "      <th>lastname</th>\n",
       "      <th>address</th>\n",
       "      <th>zip5</th>\n",
       "      <th>dob</th>\n",
       "      <th>homephone</th>\n",
       "      <th>fraud_label</th>\n",
       "      <th>fulladdress</th>\n",
       "    </tr>\n",
       "  </thead>\n",
       "  <tbody>\n",
       "    <tr>\n",
       "      <th>0</th>\n",
       "      <td>1</td>\n",
       "      <td>2017-01-01</td>\n",
       "      <td>379070012</td>\n",
       "      <td>XRRAMMTR</td>\n",
       "      <td>SMJETJMJ</td>\n",
       "      <td>6861 EUTST PL</td>\n",
       "      <td>2765</td>\n",
       "      <td>1</td>\n",
       "      <td>1797504115</td>\n",
       "      <td>0</td>\n",
       "      <td>6861 EUTST PL 2765</td>\n",
       "    </tr>\n",
       "    <tr>\n",
       "      <th>1</th>\n",
       "      <td>2</td>\n",
       "      <td>2017-01-01</td>\n",
       "      <td>387482503</td>\n",
       "      <td>MAMSTUJR</td>\n",
       "      <td>RTTEMRRR</td>\n",
       "      <td>7280 URASA PL</td>\n",
       "      <td>57169</td>\n",
       "      <td>19340615</td>\n",
       "      <td>4164239415</td>\n",
       "      <td>1</td>\n",
       "      <td>7280 URASA PL 57169</td>\n",
       "    </tr>\n",
       "    <tr>\n",
       "      <th>2</th>\n",
       "      <td>3</td>\n",
       "      <td>2017-01-01</td>\n",
       "      <td>200332444</td>\n",
       "      <td>SZMMUJEZS</td>\n",
       "      <td>EUSEZRAE</td>\n",
       "      <td>5581 RSREX LN</td>\n",
       "      <td>56721</td>\n",
       "      <td>3</td>\n",
       "      <td>216537580</td>\n",
       "      <td>0</td>\n",
       "      <td>5581 RSREX LN 56721</td>\n",
       "    </tr>\n",
       "    <tr>\n",
       "      <th>3</th>\n",
       "      <td>4</td>\n",
       "      <td>2017-01-01</td>\n",
       "      <td>747451317</td>\n",
       "      <td>SJJZSXRSZ</td>\n",
       "      <td>ETJXTXXS</td>\n",
       "      <td>1387 UJZXJ RD</td>\n",
       "      <td>35286</td>\n",
       "      <td>19440430</td>\n",
       "      <td>132144161</td>\n",
       "      <td>0</td>\n",
       "      <td>1387 UJZXJ RD 35286</td>\n",
       "    </tr>\n",
       "    <tr>\n",
       "      <th>4</th>\n",
       "      <td>5</td>\n",
       "      <td>2017-01-01</td>\n",
       "      <td>24065868</td>\n",
       "      <td>SSSXUEJMS</td>\n",
       "      <td>SSUUJXUZ</td>\n",
       "      <td>279 EAASA WY</td>\n",
       "      <td>3173</td>\n",
       "      <td>19980315</td>\n",
       "      <td>6101082272</td>\n",
       "      <td>0</td>\n",
       "      <td>279 EAASA WY 3173</td>\n",
       "    </tr>\n",
       "    <tr>\n",
       "      <th>5</th>\n",
       "      <td>6</td>\n",
       "      <td>2017-01-01</td>\n",
       "      <td>922264214</td>\n",
       "      <td>XEEJJSTER</td>\n",
       "      <td>ERJSAXA</td>\n",
       "      <td>4322 USJXU LN</td>\n",
       "      <td>8391</td>\n",
       "      <td>19480613</td>\n",
       "      <td>5742016319</td>\n",
       "      <td>0</td>\n",
       "      <td>4322 USJXU LN 8391</td>\n",
       "    </tr>\n",
       "    <tr>\n",
       "      <th>6</th>\n",
       "      <td>7</td>\n",
       "      <td>2017-01-01</td>\n",
       "      <td>415812149</td>\n",
       "      <td>XZJRJUSRR</td>\n",
       "      <td>STSMJRUM</td>\n",
       "      <td>478 EEXUM LN</td>\n",
       "      <td>41640</td>\n",
       "      <td>19640318</td>\n",
       "      <td>7697396312</td>\n",
       "      <td>0</td>\n",
       "      <td>478 EEXUM LN 41640</td>\n",
       "    </tr>\n",
       "    <tr>\n",
       "      <th>7</th>\n",
       "      <td>8</td>\n",
       "      <td>2017-01-01</td>\n",
       "      <td>373752050</td>\n",
       "      <td>EJMRRSUXR</td>\n",
       "      <td>AMTZXRU</td>\n",
       "      <td>8906 UUAJ PL</td>\n",
       "      <td>60567</td>\n",
       "      <td>19190528</td>\n",
       "      <td>2727421586</td>\n",
       "      <td>0</td>\n",
       "      <td>8906 UUAJ PL 60567</td>\n",
       "    </tr>\n",
       "    <tr>\n",
       "      <th>8</th>\n",
       "      <td>9</td>\n",
       "      <td>2017-01-01</td>\n",
       "      <td>769970791</td>\n",
       "      <td>RXTSZJATS</td>\n",
       "      <td>RSXMRJME</td>\n",
       "      <td>8266 SSEAR RD</td>\n",
       "      <td>37934</td>\n",
       "      <td>19900314</td>\n",
       "      <td>5520652307</td>\n",
       "      <td>0</td>\n",
       "      <td>8266 SSEAR RD 37934</td>\n",
       "    </tr>\n",
       "    <tr>\n",
       "      <th>9</th>\n",
       "      <td>10</td>\n",
       "      <td>2017-01-01</td>\n",
       "      <td>732119085</td>\n",
       "      <td>EREMTZXXA</td>\n",
       "      <td>EXMMSEXT</td>\n",
       "      <td>9166 XXSAZ PL</td>\n",
       "      <td>93751</td>\n",
       "      <td>19750127</td>\n",
       "      <td>3749451123</td>\n",
       "      <td>0</td>\n",
       "      <td>9166 XXSAZ PL 93751</td>\n",
       "    </tr>\n",
       "    <tr>\n",
       "      <th>10</th>\n",
       "      <td>11</td>\n",
       "      <td>2017-01-01</td>\n",
       "      <td>11</td>\n",
       "      <td>UZZSMXSEE</td>\n",
       "      <td>USJZUSA</td>\n",
       "      <td>726 UMTXU ST</td>\n",
       "      <td>92129</td>\n",
       "      <td>19400126</td>\n",
       "      <td>3026547212</td>\n",
       "      <td>0</td>\n",
       "      <td>726 UMTXU ST 92129</td>\n",
       "    </tr>\n",
       "    <tr>\n",
       "      <th>11</th>\n",
       "      <td>12</td>\n",
       "      <td>2017-01-01</td>\n",
       "      <td>854773981</td>\n",
       "      <td>RSZXMZRSU</td>\n",
       "      <td>EZJAXJTZ</td>\n",
       "      <td>2561 RXJXU BLVD</td>\n",
       "      <td>9531</td>\n",
       "      <td>19471211</td>\n",
       "      <td>3896260651</td>\n",
       "      <td>0</td>\n",
       "      <td>2561 RXJXU BLVD 9531</td>\n",
       "    </tr>\n",
       "    <tr>\n",
       "      <th>12</th>\n",
       "      <td>13</td>\n",
       "      <td>2017-01-01</td>\n",
       "      <td>283419783</td>\n",
       "      <td>EJAASJXXM</td>\n",
       "      <td>UZZSAZJR</td>\n",
       "      <td>4365 UMXZA LN</td>\n",
       "      <td>82369</td>\n",
       "      <td>19000122</td>\n",
       "      <td>5874359299</td>\n",
       "      <td>0</td>\n",
       "      <td>4365 UMXZA LN 82369</td>\n",
       "    </tr>\n",
       "    <tr>\n",
       "      <th>13</th>\n",
       "      <td>14</td>\n",
       "      <td>2017-01-01</td>\n",
       "      <td>800705980</td>\n",
       "      <td>MUTAEUUZS</td>\n",
       "      <td>STAZJXRA</td>\n",
       "      <td>1683 RSEJM ST</td>\n",
       "      <td>66204</td>\n",
       "      <td>19400902</td>\n",
       "      <td>3903104222</td>\n",
       "      <td>0</td>\n",
       "      <td>1683 RSEJM ST 66204</td>\n",
       "    </tr>\n",
       "    <tr>\n",
       "      <th>14</th>\n",
       "      <td>15</td>\n",
       "      <td>2017-01-01</td>\n",
       "      <td>654640127</td>\n",
       "      <td>SUXZRSUZT</td>\n",
       "      <td>UAJRRXM</td>\n",
       "      <td>4961 RTZJA BLVD</td>\n",
       "      <td>61344</td>\n",
       "      <td>19360829</td>\n",
       "      <td>1754954648</td>\n",
       "      <td>0</td>\n",
       "      <td>4961 RTZJA BLVD 61344</td>\n",
       "    </tr>\n",
       "    <tr>\n",
       "      <th>15</th>\n",
       "      <td>16</td>\n",
       "      <td>2017-01-01</td>\n",
       "      <td>763049287</td>\n",
       "      <td>XAREMEUUU</td>\n",
       "      <td>SXXJSARX</td>\n",
       "      <td>6575 EXZXA RD</td>\n",
       "      <td>43912</td>\n",
       "      <td>19991228</td>\n",
       "      <td>3915611901</td>\n",
       "      <td>0</td>\n",
       "      <td>6575 EXZXA RD 43912</td>\n",
       "    </tr>\n",
       "    <tr>\n",
       "      <th>16</th>\n",
       "      <td>17</td>\n",
       "      <td>2017-01-01</td>\n",
       "      <td>610654961</td>\n",
       "      <td>UJSRSMUEZ</td>\n",
       "      <td>SJATAXXX</td>\n",
       "      <td>4057 SRZAE BLVD</td>\n",
       "      <td>29576</td>\n",
       "      <td>20080401</td>\n",
       "      <td>516200670</td>\n",
       "      <td>0</td>\n",
       "      <td>4057 SRZAE BLVD 29576</td>\n",
       "    </tr>\n",
       "    <tr>\n",
       "      <th>17</th>\n",
       "      <td>18</td>\n",
       "      <td>2017-01-01</td>\n",
       "      <td>346374636</td>\n",
       "      <td>XRSSZZUXT</td>\n",
       "      <td>ETXZXJAJ</td>\n",
       "      <td>5719 UEZJT PL</td>\n",
       "      <td>51486</td>\n",
       "      <td>19500110</td>\n",
       "      <td>18</td>\n",
       "      <td>0</td>\n",
       "      <td>5719 UEZJT PL 51486</td>\n",
       "    </tr>\n",
       "    <tr>\n",
       "      <th>18</th>\n",
       "      <td>19</td>\n",
       "      <td>2017-01-01</td>\n",
       "      <td>722620451</td>\n",
       "      <td>UXJSUXJUJ</td>\n",
       "      <td>UUMRUSA</td>\n",
       "      <td>1198 XAZZR PL</td>\n",
       "      <td>93301</td>\n",
       "      <td>19901113</td>\n",
       "      <td>439009868</td>\n",
       "      <td>0</td>\n",
       "      <td>1198 XAZZR PL 93301</td>\n",
       "    </tr>\n",
       "    <tr>\n",
       "      <th>19</th>\n",
       "      <td>20</td>\n",
       "      <td>2017-01-01</td>\n",
       "      <td>892971652</td>\n",
       "      <td>XUTMSSREZ</td>\n",
       "      <td>UJEUUJXT</td>\n",
       "      <td>2350 EZTXX AVE</td>\n",
       "      <td>25166</td>\n",
       "      <td>20060815</td>\n",
       "      <td>1938458945</td>\n",
       "      <td>0</td>\n",
       "      <td>2350 EZTXX AVE 25166</td>\n",
       "    </tr>\n",
       "    <tr>\n",
       "      <th>20</th>\n",
       "      <td>21</td>\n",
       "      <td>2017-01-01</td>\n",
       "      <td>344025146</td>\n",
       "      <td>SJAXEZAMT</td>\n",
       "      <td>MERAUUU</td>\n",
       "      <td>3142 MZZE WY</td>\n",
       "      <td>14589</td>\n",
       "      <td>19770328</td>\n",
       "      <td>6547182278</td>\n",
       "      <td>0</td>\n",
       "      <td>3142 MZZE WY 14589</td>\n",
       "    </tr>\n",
       "    <tr>\n",
       "      <th>21</th>\n",
       "      <td>22</td>\n",
       "      <td>2017-01-01</td>\n",
       "      <td>624412170</td>\n",
       "      <td>RAJSJZUSZ</td>\n",
       "      <td>SSSEARET</td>\n",
       "      <td>3775 RUXE DR</td>\n",
       "      <td>21860</td>\n",
       "      <td>19870706</td>\n",
       "      <td>6485706942</td>\n",
       "      <td>0</td>\n",
       "      <td>3775 RUXE DR 21860</td>\n",
       "    </tr>\n",
       "    <tr>\n",
       "      <th>22</th>\n",
       "      <td>23</td>\n",
       "      <td>2017-01-01</td>\n",
       "      <td>23</td>\n",
       "      <td>ETXMUSZEM</td>\n",
       "      <td>UJMAMEU</td>\n",
       "      <td>3387 STRUM WY</td>\n",
       "      <td>45982</td>\n",
       "      <td>19580830</td>\n",
       "      <td>5568704443</td>\n",
       "      <td>0</td>\n",
       "      <td>3387 STRUM WY 45982</td>\n",
       "    </tr>\n",
       "    <tr>\n",
       "      <th>23</th>\n",
       "      <td>24</td>\n",
       "      <td>2017-01-01</td>\n",
       "      <td>240172205</td>\n",
       "      <td>RRSAZXXEJ</td>\n",
       "      <td>ESSJAZMA</td>\n",
       "      <td>8715 STRJX ST</td>\n",
       "      <td>94373</td>\n",
       "      <td>19770518</td>\n",
       "      <td>764218629</td>\n",
       "      <td>0</td>\n",
       "      <td>8715 STRJX ST 94373</td>\n",
       "    </tr>\n",
       "    <tr>\n",
       "      <th>24</th>\n",
       "      <td>25</td>\n",
       "      <td>2017-01-01</td>\n",
       "      <td>425320780</td>\n",
       "      <td>SREZUJMJU</td>\n",
       "      <td>RXRRRTMX</td>\n",
       "      <td>626 STSRR ST</td>\n",
       "      <td>59453</td>\n",
       "      <td>19381224</td>\n",
       "      <td>9070020107</td>\n",
       "      <td>0</td>\n",
       "      <td>626 STSRR ST 59453</td>\n",
       "    </tr>\n",
       "    <tr>\n",
       "      <th>25</th>\n",
       "      <td>26</td>\n",
       "      <td>2017-01-01</td>\n",
       "      <td>726871640</td>\n",
       "      <td>XMTJTUSXM</td>\n",
       "      <td>EMMMTAAE</td>\n",
       "      <td>2585 ERUZR LN</td>\n",
       "      <td>83363</td>\n",
       "      <td>19690521</td>\n",
       "      <td>3020180571</td>\n",
       "      <td>0</td>\n",
       "      <td>2585 ERUZR LN 83363</td>\n",
       "    </tr>\n",
       "    <tr>\n",
       "      <th>26</th>\n",
       "      <td>27</td>\n",
       "      <td>2017-01-01</td>\n",
       "      <td>735495403</td>\n",
       "      <td>EMSSTSXUA</td>\n",
       "      <td>STZRUXZM</td>\n",
       "      <td>9323 STRMS PL</td>\n",
       "      <td>51395</td>\n",
       "      <td>19881111</td>\n",
       "      <td>27</td>\n",
       "      <td>0</td>\n",
       "      <td>9323 STRMS PL 51395</td>\n",
       "    </tr>\n",
       "    <tr>\n",
       "      <th>27</th>\n",
       "      <td>28</td>\n",
       "      <td>2017-01-01</td>\n",
       "      <td>572953147</td>\n",
       "      <td>TXMZSZUE</td>\n",
       "      <td>XUJESAA</td>\n",
       "      <td>105 RJAZM BLVD</td>\n",
       "      <td>93806</td>\n",
       "      <td>19151119</td>\n",
       "      <td>2019407715</td>\n",
       "      <td>0</td>\n",
       "      <td>105 RJAZM BLVD 93806</td>\n",
       "    </tr>\n",
       "    <tr>\n",
       "      <th>28</th>\n",
       "      <td>29</td>\n",
       "      <td>2017-01-01</td>\n",
       "      <td>702069537</td>\n",
       "      <td>SSZREMAMU</td>\n",
       "      <td>SXEJRUJJ</td>\n",
       "      <td>6591 UAXSU RD</td>\n",
       "      <td>21920</td>\n",
       "      <td>19890613</td>\n",
       "      <td>5814569297</td>\n",
       "      <td>0</td>\n",
       "      <td>6591 UAXSU RD 21920</td>\n",
       "    </tr>\n",
       "    <tr>\n",
       "      <th>29</th>\n",
       "      <td>30</td>\n",
       "      <td>2017-01-01</td>\n",
       "      <td>811559368</td>\n",
       "      <td>RATZJTJJX</td>\n",
       "      <td>ETASRZEE</td>\n",
       "      <td>1815 EJZJR BLVD</td>\n",
       "      <td>2214</td>\n",
       "      <td>30</td>\n",
       "      <td>2498035994</td>\n",
       "      <td>0</td>\n",
       "      <td>1815 EJZJR BLVD 2214</td>\n",
       "    </tr>\n",
       "  </tbody>\n",
       "</table>\n",
       "</div>"
      ],
      "text/plain": [
       "    record       date        ssn  firstname  lastname          address   zip5  \\\n",
       "0        1 2017-01-01  379070012   XRRAMMTR  SMJETJMJ    6861 EUTST PL   2765   \n",
       "1        2 2017-01-01  387482503   MAMSTUJR  RTTEMRRR    7280 URASA PL  57169   \n",
       "2        3 2017-01-01  200332444  SZMMUJEZS  EUSEZRAE    5581 RSREX LN  56721   \n",
       "3        4 2017-01-01  747451317  SJJZSXRSZ  ETJXTXXS    1387 UJZXJ RD  35286   \n",
       "4        5 2017-01-01   24065868  SSSXUEJMS  SSUUJXUZ     279 EAASA WY   3173   \n",
       "5        6 2017-01-01  922264214  XEEJJSTER   ERJSAXA    4322 USJXU LN   8391   \n",
       "6        7 2017-01-01  415812149  XZJRJUSRR  STSMJRUM     478 EEXUM LN  41640   \n",
       "7        8 2017-01-01  373752050  EJMRRSUXR   AMTZXRU     8906 UUAJ PL  60567   \n",
       "8        9 2017-01-01  769970791  RXTSZJATS  RSXMRJME    8266 SSEAR RD  37934   \n",
       "9       10 2017-01-01  732119085  EREMTZXXA  EXMMSEXT    9166 XXSAZ PL  93751   \n",
       "10      11 2017-01-01         11  UZZSMXSEE   USJZUSA     726 UMTXU ST  92129   \n",
       "11      12 2017-01-01  854773981  RSZXMZRSU  EZJAXJTZ  2561 RXJXU BLVD   9531   \n",
       "12      13 2017-01-01  283419783  EJAASJXXM  UZZSAZJR    4365 UMXZA LN  82369   \n",
       "13      14 2017-01-01  800705980  MUTAEUUZS  STAZJXRA    1683 RSEJM ST  66204   \n",
       "14      15 2017-01-01  654640127  SUXZRSUZT   UAJRRXM  4961 RTZJA BLVD  61344   \n",
       "15      16 2017-01-01  763049287  XAREMEUUU  SXXJSARX    6575 EXZXA RD  43912   \n",
       "16      17 2017-01-01  610654961  UJSRSMUEZ  SJATAXXX  4057 SRZAE BLVD  29576   \n",
       "17      18 2017-01-01  346374636  XRSSZZUXT  ETXZXJAJ    5719 UEZJT PL  51486   \n",
       "18      19 2017-01-01  722620451  UXJSUXJUJ   UUMRUSA    1198 XAZZR PL  93301   \n",
       "19      20 2017-01-01  892971652  XUTMSSREZ  UJEUUJXT   2350 EZTXX AVE  25166   \n",
       "20      21 2017-01-01  344025146  SJAXEZAMT   MERAUUU     3142 MZZE WY  14589   \n",
       "21      22 2017-01-01  624412170  RAJSJZUSZ  SSSEARET     3775 RUXE DR  21860   \n",
       "22      23 2017-01-01         23  ETXMUSZEM   UJMAMEU    3387 STRUM WY  45982   \n",
       "23      24 2017-01-01  240172205  RRSAZXXEJ  ESSJAZMA    8715 STRJX ST  94373   \n",
       "24      25 2017-01-01  425320780  SREZUJMJU  RXRRRTMX     626 STSRR ST  59453   \n",
       "25      26 2017-01-01  726871640  XMTJTUSXM  EMMMTAAE    2585 ERUZR LN  83363   \n",
       "26      27 2017-01-01  735495403  EMSSTSXUA  STZRUXZM    9323 STRMS PL  51395   \n",
       "27      28 2017-01-01  572953147   TXMZSZUE   XUJESAA   105 RJAZM BLVD  93806   \n",
       "28      29 2017-01-01  702069537  SSZREMAMU  SXEJRUJJ    6591 UAXSU RD  21920   \n",
       "29      30 2017-01-01  811559368  RATZJTJJX  ETASRZEE  1815 EJZJR BLVD   2214   \n",
       "\n",
       "         dob   homephone  fraud_label            fulladdress  \n",
       "0          1  1797504115            0     6861 EUTST PL 2765  \n",
       "1   19340615  4164239415            1    7280 URASA PL 57169  \n",
       "2          3   216537580            0    5581 RSREX LN 56721  \n",
       "3   19440430   132144161            0    1387 UJZXJ RD 35286  \n",
       "4   19980315  6101082272            0      279 EAASA WY 3173  \n",
       "5   19480613  5742016319            0     4322 USJXU LN 8391  \n",
       "6   19640318  7697396312            0     478 EEXUM LN 41640  \n",
       "7   19190528  2727421586            0     8906 UUAJ PL 60567  \n",
       "8   19900314  5520652307            0    8266 SSEAR RD 37934  \n",
       "9   19750127  3749451123            0    9166 XXSAZ PL 93751  \n",
       "10  19400126  3026547212            0     726 UMTXU ST 92129  \n",
       "11  19471211  3896260651            0   2561 RXJXU BLVD 9531  \n",
       "12  19000122  5874359299            0    4365 UMXZA LN 82369  \n",
       "13  19400902  3903104222            0    1683 RSEJM ST 66204  \n",
       "14  19360829  1754954648            0  4961 RTZJA BLVD 61344  \n",
       "15  19991228  3915611901            0    6575 EXZXA RD 43912  \n",
       "16  20080401   516200670            0  4057 SRZAE BLVD 29576  \n",
       "17  19500110          18            0    5719 UEZJT PL 51486  \n",
       "18  19901113   439009868            0    1198 XAZZR PL 93301  \n",
       "19  20060815  1938458945            0   2350 EZTXX AVE 25166  \n",
       "20  19770328  6547182278            0     3142 MZZE WY 14589  \n",
       "21  19870706  6485706942            0     3775 RUXE DR 21860  \n",
       "22  19580830  5568704443            0    3387 STRUM WY 45982  \n",
       "23  19770518   764218629            0    8715 STRJX ST 94373  \n",
       "24  19381224  9070020107            0     626 STSRR ST 59453  \n",
       "25  19690521  3020180571            0    2585 ERUZR LN 83363  \n",
       "26  19881111          27            0    9323 STRMS PL 51395  \n",
       "27  19151119  2019407715            0   105 RJAZM BLVD 93806  \n",
       "28  19890613  5814569297            0    6591 UAXSU RD 21920  \n",
       "29        30  2498035994            0   1815 EJZJR BLVD 2214  "
      ]
     },
     "execution_count": 87,
     "metadata": {},
     "output_type": "execute_result"
    }
   ],
   "source": [
    "data.head(30)"
   ]
  },
  {
   "cell_type": "code",
   "execution_count": 88,
   "metadata": {},
   "outputs": [
    {
     "data": {
      "text/plain": [
       "<AxesSubplot:>"
      ]
     },
     "execution_count": 88,
     "metadata": {},
     "output_type": "execute_result"
    },
    {
     "data": {
      "image/png": "[encoded data removed]",
      "text/plain": [
       "<Figure size 432x288 with 1 Axes>"
      ]
     },
     "metadata": {},
     "output_type": "display_data"
    }
   ],
   "source": [
    "data['homephone'].value_counts().head(20).plot(kind='bar',logy=True)"
   ]
  },
  {
   "cell_type": "code",
   "execution_count": 89,
   "metadata": {},
   "outputs": [
    {
     "data": {
      "text/html": [
       "<div>\n",
       "<style scoped>\n",
       "    .dataframe tbody tr th:only-of-type {\n",
       "        vertical-align: middle;\n",
       "    }\n",
       "\n",
       "    .dataframe tbody tr th {\n",
       "        vertical-align: top;\n",
       "    }\n",
       "\n",
       "    .dataframe thead th {\n",
       "        text-align: right;\n",
       "    }\n",
       "</style>\n",
       "<table border=\"1\" class=\"dataframe\">\n",
       "  <thead>\n",
       "    <tr style=\"text-align: right;\">\n",
       "      <th></th>\n",
       "      <th>record</th>\n",
       "      <th>date</th>\n",
       "      <th>ssn</th>\n",
       "      <th>firstname</th>\n",
       "      <th>lastname</th>\n",
       "      <th>address</th>\n",
       "      <th>zip5</th>\n",
       "      <th>dob</th>\n",
       "      <th>homephone</th>\n",
       "      <th>fraud_label</th>\n",
       "    </tr>\n",
       "  </thead>\n",
       "  <tbody>\n",
       "    <tr>\n",
       "      <th>0</th>\n",
       "      <td>1</td>\n",
       "      <td>2017-01-01</td>\n",
       "      <td>379070012</td>\n",
       "      <td>XRRAMMTR</td>\n",
       "      <td>SMJETJMJ</td>\n",
       "      <td>6861 EUTST PL</td>\n",
       "      <td>2765</td>\n",
       "      <td>1</td>\n",
       "      <td>1797504115</td>\n",
       "      <td>0</td>\n",
       "    </tr>\n",
       "    <tr>\n",
       "      <th>1</th>\n",
       "      <td>2</td>\n",
       "      <td>2017-01-01</td>\n",
       "      <td>387482503</td>\n",
       "      <td>MAMSTUJR</td>\n",
       "      <td>RTTEMRRR</td>\n",
       "      <td>7280 URASA PL</td>\n",
       "      <td>57169</td>\n",
       "      <td>19340615</td>\n",
       "      <td>4164239415</td>\n",
       "      <td>1</td>\n",
       "    </tr>\n",
       "    <tr>\n",
       "      <th>2</th>\n",
       "      <td>3</td>\n",
       "      <td>2017-01-01</td>\n",
       "      <td>200332444</td>\n",
       "      <td>SZMMUJEZS</td>\n",
       "      <td>EUSEZRAE</td>\n",
       "      <td>5581 RSREX LN</td>\n",
       "      <td>56721</td>\n",
       "      <td>3</td>\n",
       "      <td>216537580</td>\n",
       "      <td>0</td>\n",
       "    </tr>\n",
       "    <tr>\n",
       "      <th>3</th>\n",
       "      <td>4</td>\n",
       "      <td>2017-01-01</td>\n",
       "      <td>747451317</td>\n",
       "      <td>SJJZSXRSZ</td>\n",
       "      <td>ETJXTXXS</td>\n",
       "      <td>1387 UJZXJ RD</td>\n",
       "      <td>35286</td>\n",
       "      <td>19440430</td>\n",
       "      <td>132144161</td>\n",
       "      <td>0</td>\n",
       "    </tr>\n",
       "    <tr>\n",
       "      <th>4</th>\n",
       "      <td>5</td>\n",
       "      <td>2017-01-01</td>\n",
       "      <td>24065868</td>\n",
       "      <td>SSSXUEJMS</td>\n",
       "      <td>SSUUJXUZ</td>\n",
       "      <td>279 EAASA WY</td>\n",
       "      <td>3173</td>\n",
       "      <td>19980315</td>\n",
       "      <td>6101082272</td>\n",
       "      <td>0</td>\n",
       "    </tr>\n",
       "    <tr>\n",
       "      <th>5</th>\n",
       "      <td>6</td>\n",
       "      <td>2017-01-01</td>\n",
       "      <td>922264214</td>\n",
       "      <td>XEEJJSTER</td>\n",
       "      <td>ERJSAXA</td>\n",
       "      <td>4322 USJXU LN</td>\n",
       "      <td>8391</td>\n",
       "      <td>19480613</td>\n",
       "      <td>5742016319</td>\n",
       "      <td>0</td>\n",
       "    </tr>\n",
       "    <tr>\n",
       "      <th>6</th>\n",
       "      <td>7</td>\n",
       "      <td>2017-01-01</td>\n",
       "      <td>415812149</td>\n",
       "      <td>XZJRJUSRR</td>\n",
       "      <td>STSMJRUM</td>\n",
       "      <td>478 EEXUM LN</td>\n",
       "      <td>41640</td>\n",
       "      <td>19640318</td>\n",
       "      <td>7697396312</td>\n",
       "      <td>0</td>\n",
       "    </tr>\n",
       "    <tr>\n",
       "      <th>7</th>\n",
       "      <td>8</td>\n",
       "      <td>2017-01-01</td>\n",
       "      <td>373752050</td>\n",
       "      <td>EJMRRSUXR</td>\n",
       "      <td>AMTZXRU</td>\n",
       "      <td>8906 UUAJ PL</td>\n",
       "      <td>60567</td>\n",
       "      <td>19190528</td>\n",
       "      <td>2727421586</td>\n",
       "      <td>0</td>\n",
       "    </tr>\n",
       "    <tr>\n",
       "      <th>8</th>\n",
       "      <td>9</td>\n",
       "      <td>2017-01-01</td>\n",
       "      <td>769970791</td>\n",
       "      <td>RXTSZJATS</td>\n",
       "      <td>RSXMRJME</td>\n",
       "      <td>8266 SSEAR RD</td>\n",
       "      <td>37934</td>\n",
       "      <td>19900314</td>\n",
       "      <td>5520652307</td>\n",
       "      <td>0</td>\n",
       "    </tr>\n",
       "    <tr>\n",
       "      <th>9</th>\n",
       "      <td>10</td>\n",
       "      <td>2017-01-01</td>\n",
       "      <td>732119085</td>\n",
       "      <td>EREMTZXXA</td>\n",
       "      <td>EXMMSEXT</td>\n",
       "      <td>9166 XXSAZ PL</td>\n",
       "      <td>93751</td>\n",
       "      <td>19750127</td>\n",
       "      <td>3749451123</td>\n",
       "      <td>0</td>\n",
       "    </tr>\n",
       "  </tbody>\n",
       "</table>\n",
       "</div>"
      ],
      "text/plain": [
       "   record       date        ssn  firstname  lastname        address   zip5  \\\n",
       "0       1 2017-01-01  379070012   XRRAMMTR  SMJETJMJ  6861 EUTST PL   2765   \n",
       "1       2 2017-01-01  387482503   MAMSTUJR  RTTEMRRR  7280 URASA PL  57169   \n",
       "2       3 2017-01-01  200332444  SZMMUJEZS  EUSEZRAE  5581 RSREX LN  56721   \n",
       "3       4 2017-01-01  747451317  SJJZSXRSZ  ETJXTXXS  1387 UJZXJ RD  35286   \n",
       "4       5 2017-01-01   24065868  SSSXUEJMS  SSUUJXUZ   279 EAASA WY   3173   \n",
       "5       6 2017-01-01  922264214  XEEJJSTER   ERJSAXA  4322 USJXU LN   8391   \n",
       "6       7 2017-01-01  415812149  XZJRJUSRR  STSMJRUM   478 EEXUM LN  41640   \n",
       "7       8 2017-01-01  373752050  EJMRRSUXR   AMTZXRU   8906 UUAJ PL  60567   \n",
       "8       9 2017-01-01  769970791  RXTSZJATS  RSXMRJME  8266 SSEAR RD  37934   \n",
       "9      10 2017-01-01  732119085  EREMTZXXA  EXMMSEXT  9166 XXSAZ PL  93751   \n",
       "\n",
       "        dob   homephone  fraud_label  \n",
       "0         1  1797504115            0  \n",
       "1  19340615  4164239415            1  \n",
       "2         3   216537580            0  \n",
       "3  19440430   132144161            0  \n",
       "4  19980315  6101082272            0  \n",
       "5  19480613  5742016319            0  \n",
       "6  19640318  7697396312            0  \n",
       "7  19190528  2727421586            0  \n",
       "8  19900314  5520652307            0  \n",
       "9  19750127  3749451123            0  "
      ]
     },
     "execution_count": 89,
     "metadata": {},
     "output_type": "execute_result"
    }
   ],
   "source": [
    "data = data.drop(columns = 'fulladdress')\n",
    "data.head(10)"
   ]
  },
  {
   "cell_type": "code",
   "execution_count": 90,
   "metadata": {},
   "outputs": [
    {
     "data": {
      "text/plain": [
       "(1000000, 10)"
      ]
     },
     "execution_count": 90,
     "metadata": {},
     "output_type": "execute_result"
    }
   ],
   "source": [
    "data.shape"
   ]
  },
  {
   "cell_type": "code",
   "execution_count": 91,
   "metadata": {
    "scrolled": true
   },
   "outputs": [
    {
     "name": "stdout",
     "output_type": "stream",
     "text": [
      "<class 'pandas.core.frame.DataFrame'>\n",
      "RangeIndex: 1000000 entries, 0 to 999999\n",
      "Data columns (total 10 columns):\n",
      " #   Column       Non-Null Count    Dtype         \n",
      "---  ------       --------------    -----         \n",
      " 0   record       1000000 non-null  int64         \n",
      " 1   date         1000000 non-null  datetime64[ns]\n",
      " 2   ssn          1000000 non-null  int64         \n",
      " 3   firstname    1000000 non-null  object        \n",
      " 4   lastname     1000000 non-null  object        \n",
      " 5   address      1000000 non-null  object        \n",
      " 6   zip5         1000000 non-null  int64         \n",
      " 7   dob          1000000 non-null  int64         \n",
      " 8   homephone    1000000 non-null  int64         \n",
      " 9   fraud_label  1000000 non-null  int64         \n",
      "dtypes: datetime64[ns](1), int64(6), object(3)\n",
      "memory usage: 76.3+ MB\n"
     ]
    }
   ],
   "source": [
    "data.info()"
   ]
  },
  {
   "cell_type": "code",
   "execution_count": 92,
   "metadata": {},
   "outputs": [
    {
     "data": {
      "text/html": [
       "<div>\n",
       "<style scoped>\n",
       "    .dataframe tbody tr th:only-of-type {\n",
       "        vertical-align: middle;\n",
       "    }\n",
       "\n",
       "    .dataframe tbody tr th {\n",
       "        vertical-align: top;\n",
       "    }\n",
       "\n",
       "    .dataframe thead th {\n",
       "        text-align: right;\n",
       "    }\n",
       "</style>\n",
       "<table border=\"1\" class=\"dataframe\">\n",
       "  <thead>\n",
       "    <tr style=\"text-align: right;\">\n",
       "      <th></th>\n",
       "      <th>record</th>\n",
       "      <th>ssn</th>\n",
       "      <th>zip5</th>\n",
       "      <th>dob</th>\n",
       "      <th>homephone</th>\n",
       "      <th>fraud_label</th>\n",
       "    </tr>\n",
       "  </thead>\n",
       "  <tbody>\n",
       "    <tr>\n",
       "      <th>count</th>\n",
       "      <td>1000000.000000</td>\n",
       "      <td>1.000000e+06</td>\n",
       "      <td>1000000.000000</td>\n",
       "      <td>1.000000e+06</td>\n",
       "      <td>1.000000e+06</td>\n",
       "      <td>1000000.000000</td>\n",
       "    </tr>\n",
       "    <tr>\n",
       "      <th>mean</th>\n",
       "      <td>500000.500000</td>\n",
       "      <td>4.914150e+08</td>\n",
       "      <td>50073.333143</td>\n",
       "      <td>1.716682e+07</td>\n",
       "      <td>4.583635e+09</td>\n",
       "      <td>0.014393</td>\n",
       "    </tr>\n",
       "    <tr>\n",
       "      <th>std</th>\n",
       "      <td>288675.278933</td>\n",
       "      <td>2.934649e+08</td>\n",
       "      <td>28915.921546</td>\n",
       "      <td>6.353070e+06</td>\n",
       "      <td>3.076022e+09</td>\n",
       "      <td>0.119104</td>\n",
       "    </tr>\n",
       "    <tr>\n",
       "      <th>min</th>\n",
       "      <td>1.000000</td>\n",
       "      <td>1.100000e+01</td>\n",
       "      <td>2.000000</td>\n",
       "      <td>1.000000e+00</td>\n",
       "      <td>1.800000e+01</td>\n",
       "      <td>0.000000</td>\n",
       "    </tr>\n",
       "    <tr>\n",
       "      <th>25%</th>\n",
       "      <td>250000.750000</td>\n",
       "      <td>2.370395e+08</td>\n",
       "      <td>24992.000000</td>\n",
       "      <td>1.916092e+07</td>\n",
       "      <td>1.857659e+09</td>\n",
       "      <td>0.000000</td>\n",
       "    </tr>\n",
       "    <tr>\n",
       "      <th>50%</th>\n",
       "      <td>500000.500000</td>\n",
       "      <td>4.916291e+08</td>\n",
       "      <td>50492.000000</td>\n",
       "      <td>1.950090e+07</td>\n",
       "      <td>4.544521e+09</td>\n",
       "      <td>0.000000</td>\n",
       "    </tr>\n",
       "    <tr>\n",
       "      <th>75%</th>\n",
       "      <td>750000.250000</td>\n",
       "      <td>7.457676e+08</td>\n",
       "      <td>74496.000000</td>\n",
       "      <td>1.983032e+07</td>\n",
       "      <td>7.254188e+09</td>\n",
       "      <td>0.000000</td>\n",
       "    </tr>\n",
       "    <tr>\n",
       "      <th>max</th>\n",
       "      <td>1000000.000000</td>\n",
       "      <td>9.999999e+08</td>\n",
       "      <td>99999.000000</td>\n",
       "      <td>2.016103e+07</td>\n",
       "      <td>9.999318e+09</td>\n",
       "      <td>1.000000</td>\n",
       "    </tr>\n",
       "  </tbody>\n",
       "</table>\n",
       "</div>"
      ],
      "text/plain": [
       "               record           ssn            zip5           dob  \\\n",
       "count  1000000.000000  1.000000e+06  1000000.000000  1.000000e+06   \n",
       "mean    500000.500000  4.914150e+08    50073.333143  1.716682e+07   \n",
       "std     288675.278933  2.934649e+08    28915.921546  6.353070e+06   \n",
       "min          1.000000  1.100000e+01        2.000000  1.000000e+00   \n",
       "25%     250000.750000  2.370395e+08    24992.000000  1.916092e+07   \n",
       "50%     500000.500000  4.916291e+08    50492.000000  1.950090e+07   \n",
       "75%     750000.250000  7.457676e+08    74496.000000  1.983032e+07   \n",
       "max    1000000.000000  9.999999e+08    99999.000000  2.016103e+07   \n",
       "\n",
       "          homephone     fraud_label  \n",
       "count  1.000000e+06  1000000.000000  \n",
       "mean   4.583635e+09        0.014393  \n",
       "std    3.076022e+09        0.119104  \n",
       "min    1.800000e+01        0.000000  \n",
       "25%    1.857659e+09        0.000000  \n",
       "50%    4.544521e+09        0.000000  \n",
       "75%    7.254188e+09        0.000000  \n",
       "max    9.999318e+09        1.000000  "
      ]
     },
     "execution_count": 92,
     "metadata": {},
     "output_type": "execute_result"
    }
   ],
   "source": [
    "data.describe()"
   ]
  },
  {
   "cell_type": "code",
   "execution_count": 93,
   "metadata": {},
   "outputs": [],
   "source": [
    "# data.to_csv('applications clean.csv', index = False)"
   ]
  },
  {
   "cell_type": "code",
   "execution_count": 94,
   "metadata": {},
   "outputs": [
    {
     "name": "stdout",
     "output_type": "stream",
     "text": [
      "duration:  0:00:20.233737\n"
     ]
    }
   ],
   "source": [
    "print('duration: ', dt.datetime.now()-start_time)"
   ]
  },
  {
   "cell_type": "code",
   "execution_count": null,
   "metadata": {},
   "outputs": [],
   "source": []
  }
 ],
 "metadata": {
  "anaconda-cloud": {},
  "kernelspec": {
   "display_name": "Python 3 (ipykernel)",
   "language": "python",
   "name": "python3"
  },
  "language_info": {
   "codemirror_mode": {
    "name": "ipython",
    "version": 3
   },
   "file_extension": ".py",
   "mimetype": "text/x-python",
   "name": "python",
   "nbconvert_exporter": "python",
   "pygments_lexer": "ipython3",
   "version": "3.9.7"
  }
 },
 "nbformat": 4,
 "nbformat_minor": 2
}
